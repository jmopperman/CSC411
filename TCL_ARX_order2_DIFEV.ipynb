{
 "cells": [
  {
   "cell_type": "code",
   "execution_count": 1,
   "metadata": {},
   "outputs": [],
   "source": [
    "from joblib import Parallel, delayed\n",
    "import ARX_Optimization \n",
    "import pandas\n",
    "import numpy as np\n",
    "import xlsxwriter\n",
    "import pathlib\n",
    "import configparser\n",
    "from config import input_datadir, result_datadir\n",
    "import matplotlib.pyplot as plt\n",
    "import os"
   ]
  },
  {
   "cell_type": "code",
   "execution_count": 2,
   "metadata": {},
   "outputs": [],
   "source": [
    "inputs = pandas.read_csv(input_datadir/'Step1.csv')\n",
    "ydata1 = inputs.T1\n",
    "udata1 = inputs.Q1\n",
    "time1 = inputs.Time"
   ]
  },
  {
   "cell_type": "code",
   "execution_count": 3,
   "metadata": {},
   "outputs": [],
   "source": [
    "import scipy.optimize\n",
    "import numpy as np\n",
    "import timeit\n",
    "from random import gauss\n",
    "\n",
    "\n",
    "def add_noise(ydata, sigma):\n",
    "    sig = np.linspace(0,sigma,10)  # specifying sigma determines the range \n",
    "                                    # of noise to be invesitgated, with 10 variations each time.\n",
    "    otpts = ydata                   # The clean data is returned here for simplicity later.            \n",
    "    for s in sig:\n",
    "        noise = []\n",
    "        for i in range(len(ydata)):\n",
    "            noise.append(gauss(1,s))\n",
    "        yn = ydata + noise\n",
    "        otpts = np.vstack((otpts, yn)) # stacked arrays of output data with varying degeres of noise\n",
    "    return otpts, sig\n",
    "\n",
    "def ARX(A, B, Y, U):\n",
    "    return A.dot(Y) + B.dot(U)\n",
    "\n",
    "def OF_gen(ydata, udata, m, n):\n",
    "    ydev = ydata - ydata[0]\n",
    "    udev = udata - udata[0]\n",
    "    def OF(x):\n",
    "        A, B = x[:m], x[m:]\n",
    "\n",
    "        ydev_app = np.concatenate([[0]*m, ydev])\n",
    "        udev_app = np.concatenate([[0]*n, udev]) \n",
    "\n",
    "        summ = 0\n",
    "        for j in range(len(ydev)):\n",
    "            k = j + m\n",
    "            l = j + n\n",
    "\n",
    "            Y = np.flip(ydev_app[j:k])\n",
    "            U = np.flip(udev_app[j:l])\n",
    "            yt = ARX(A, B, Y, U)\n",
    "            summ += (ydev[j] - yt)**2\n",
    "\n",
    "        return summ\n",
    "    return OF\n",
    "\n",
    "def simulate(coefficients, Uinput, m, n):\n",
    "    udev = Uinput - Uinput[0]\n",
    "    A, B = coefficients[1:m+1], coefficients[m+1:]\n",
    "    Youtput = []\n",
    "    for i in range(len(udev)):\n",
    "        if i < len(B):\n",
    "            U = [0]*(len(B) - i) + list(udev[:i])\n",
    "        else:\n",
    "            j = i - len(B)\n",
    "            U = list(udev[j:i])\n",
    "        U.reverse()\n",
    "\n",
    "        if i < len(A):\n",
    "            Y = [0]*(len(A) - len(Youtput)) + Youtput\n",
    "        else:\n",
    "            Y = Youtput[-len(A):]\n",
    "        Y.reverse()\n",
    "\n",
    "        yt =ARX(A, B, Y, U)\n",
    "        Youtput.append(yt)\n",
    "    return Youtput\n",
    "\n",
    "def DE_rt_coeffs(bounds, ydata, udata, m, n):\n",
    "    OF = OF_gen(ydata, udata, m, n)        \n",
    "    \n",
    "    start = timeit.default_timer()\n",
    "    coeff = scipy.optimize.differential_evolution(OF, bounds).x\n",
    "    end = timeit.default_timer()\n",
    "    \n",
    "    runtime = end - start\n",
    "       \n",
    "    return runtime, coeff\n",
    "\n",
    "def MIN_rt_coeffs(ig, ydata, udata, m, n, met=None): #ig = initial guess and met=method\n",
    "    OF = OF_gen(ydata, udata, m, n)        \n",
    "    \n",
    "    start = timeit.default_timer()\n",
    "    coeff = scipy.optimize.minimize(OF, ig, method=met).x\n",
    "    end = timeit.default_timer()\n",
    "    \n",
    "    runtime = end - start\n",
    "       \n",
    "    return runtime, coeff\n",
    "\n",
    "def LSTSQ_rt_coeffs(ig, ydata, udata, m, n): #ig = initial guess and met=method\n",
    "    OF = OF_gen(ydata, udata, m, n)        \n",
    "    \n",
    "    start = timeit.default_timer()\n",
    "    coeff = scipy.optimize.least_squares(OF, ig).x\n",
    "    end = timeit.default_timer()\n",
    "    \n",
    "    runtime = end - start\n",
    "       \n",
    "    return runtime, coeff\n"
   ]
  },
  {
   "cell_type": "code",
   "execution_count": 10,
   "metadata": {},
   "outputs": [],
   "source": [
    "import fnmatch\n",
    "def analysis(N, glob_args, int_args):\n",
    "    rts = []\n",
    "    for name, val in ARX_Optimization.__dict__.items():\n",
    "        if callable(val) and fnmatch.fnmatch(name, '*coeffs'):\n",
    "            if fnmatch.fnmatch(name, 'DE*'):\n",
    "                runtimes, coeffs = val(*glob_args)\n",
    "            else:\n",
    "                runtimes, coeffs = val(*int_args)\n",
    "            rts.append(runtimes)\n",
    "    return rts\n",
    "    "
   ]
  },
  {
   "cell_type": "code",
   "execution_count": null,
   "metadata": {},
   "outputs": [],
   "source": [
    "bnds = ((-1,1),(-1,1), (-1,1),(-1,1))\n",
    "glob_args = bnds, ydata1, udata1, 2, 2\n",
    "in_g = [1, 1, 1, 1]\n",
    "int_args = in_g, ydata1, udata1, 2, 2\n",
    "\n",
    "analysis(1, glob_args, int_args)"
   ]
  },
  {
   "cell_type": "code",
   "execution_count": 37,
   "metadata": {},
   "outputs": [],
   "source": [
    "# looping through Techniques in the ARX_Optimization module:\n",
    "import fnmatch\n",
    "bnds = ((-1,1),(-1,1), (-1,1),(-1,1))\n",
    "glob_args = bnds, ydata1, udata1, 2, 2\n",
    "in_g = [1, 1, 1, 1]\n",
    "int_args = in_g, ydata1, udata1, 2, 2\n",
    "\n",
    "for name, val in ARX_Optimization.__dict__.items():\n",
    "    if callable(val) and fnmatch.fnmatch(name, '*coeffs'):\n",
    "        if fnmatch.fnmatch(name, 'DE*'):\n",
    "            print(val(*glob_args))\n",
    "        else:\n",
    "            print(val(*int_args))\n",
    "            \n"
   ]
  },
  {
   "cell_type": "code",
   "execution_count": 1,
   "metadata": {},
   "outputs": [
    {
     "data": {
      "text/plain": [
       "((-1, 1), (-1, 1), (-1, 1), (-1, 1), (-1, 1))"
      ]
     },
     "execution_count": 1,
     "metadata": {},
     "output_type": "execute_result"
    }
   ],
   "source": [
    "m = 2\n",
    "n = 3\n",
    "tuple((-1,1) for _ in range(m+n))"
   ]
  },
  {
   "cell_type": "code",
   "execution_count": 51,
   "metadata": {},
   "outputs": [
    {
     "data": {
      "text/plain": [
       "[1, 1, 1, 1, 1]"
      ]
     },
     "execution_count": 51,
     "metadata": {},
     "output_type": "execute_result"
    }
   ],
   "source": [
    "[1 for i in range(m+n)]"
   ]
  },
  {
   "cell_type": "code",
   "execution_count": null,
   "metadata": {},
   "outputs": [],
   "source": []
  }
 ],
 "metadata": {
  "kernelspec": {
   "display_name": "Python 3",
   "language": "python",
   "name": "python3"
  },
  "language_info": {
   "codemirror_mode": {
    "name": "ipython",
    "version": 3
   },
   "file_extension": ".py",
   "mimetype": "text/x-python",
   "name": "python",
   "nbconvert_exporter": "python",
   "pygments_lexer": "ipython3",
   "version": "3.7.1"
  }
 },
 "nbformat": 4,
 "nbformat_minor": 2
}
