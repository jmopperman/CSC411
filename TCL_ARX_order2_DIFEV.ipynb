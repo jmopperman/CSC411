{
 "cells": [
  {
   "cell_type": "code",
   "execution_count": 1,
   "metadata": {},
   "outputs": [],
   "source": [
    "from joblib import Parallel, delayed"
   ]
  },
  {
   "cell_type": "code",
   "execution_count": 2,
   "metadata": {},
   "outputs": [],
   "source": [
    "import ARX_Optimization as ID\n",
    "import pandas\n",
    "import numpy as np\n",
    "import xlsxwriter\n",
    "import pathlib\n",
    "import configparser\n",
    "from config import datadir"
   ]
  },
  {
   "cell_type": "code",
   "execution_count": 3,
   "metadata": {},
   "outputs": [],
   "source": [
    "config = configparser.ConfigParser()\n",
    "config.read('config.ini')\n",
    "datadir = pathlib.Path(config['paths']['datadir']).expanduser()\n",
    "inputs = pandas.read_csv(datadir/'Step1.csv')\n",
    "# results.to_csv(datadir/'results.csv') !!NB"
   ]
  },
  {
   "cell_type": "code",
   "execution_count": 4,
   "metadata": {},
   "outputs": [],
   "source": [
    "ydata1 = inputs.T1\n",
    "udata1 = inputs.Q1\n",
    "time1 = inputs.Time"
   ]
  },
  {
   "cell_type": "code",
   "execution_count": 5,
   "metadata": {},
   "outputs": [],
   "source": [
    "# specify the order:\n",
    "m, n = 2, 2\n",
    "\n",
    "# initialize bounds:\n",
    "bnds = ((-1,1),(-1,1),(-1,1),(-1,1))\n",
    "\n",
    "# # Adding 10 degrees of noise:\n",
    "# otpts, std_dev = ID.add_noise(ydata1, 5)\n",
    "\n",
    "# # Changing the shape of the data in order to simply write it into the excel file later.\n",
    "# rewrite_noise_data = []\n",
    "# for j in range(0, len(ydata1)):\n",
    "#     rewrite = [item[j] for item in otpts]\n",
    "#     rewrite_noise_data.append(rewrite) \n",
    "\n",
    "def parallel_runs(N):\n",
    "    \n",
    "    # Adding 10 degrees of noise:\n",
    "    otpts, std_dev = ID.add_noise(ydata1, 5)\n",
    "\n",
    "    # Now to get the runtimes, coefficients and errors of the data:\n",
    "    coefficients = []\n",
    "    rts = []\n",
    "    for i in range(0,N):\n",
    "        ni = otpts[i,:]\n",
    "        runtimes, coeffs = ID.DE_rt_coeffs(bnds, ni, udata1, m, n)\n",
    "        coefficients.append(coeffs)\n",
    "        rts.append(runtimes)\n",
    "    return otpts, std_dev, coefficients, rts\n"
   ]
  },
  {
   "cell_type": "code",
   "execution_count": 6,
   "metadata": {},
   "outputs": [],
   "source": [
    "# The for loop that performs identification is run in parallel ten times to obtain possible trends. \n",
    "block = Parallel(-1)(delayed(parallel_runs)(10) for i in range(0, 10))"
   ]
  },
  {
   "cell_type": "code",
   "execution_count": 7,
   "metadata": {
    "scrolled": false
   },
   "outputs": [
    {
     "data": {
      "text/plain": [
       "(array([[20.9495    , 20.9495    , 20.9495    , ..., 50.9234    ,\n",
       "         50.9234    , 50.9234    ],\n",
       "        [21.9495    , 21.9495    , 21.9495    , ..., 51.9234    ,\n",
       "         51.9234    , 51.9234    ],\n",
       "        [21.53846175, 22.30863244, 20.74105555, ..., 52.07159884,\n",
       "         51.58825343, 51.87054204],\n",
       "        ...,\n",
       "        [20.56327585, 27.63524714, 27.08873126, ..., 48.7366683 ,\n",
       "         53.64667336, 52.99304641],\n",
       "        [19.40006765, 23.45617799, 22.06144175, ..., 41.86078144,\n",
       "         45.73024561, 50.39161318],\n",
       "        [29.02603433, 24.81298276, 27.61154015, ..., 53.13640739,\n",
       "         44.210507  , 51.19729829]]),\n",
       " array([0.        , 0.55555556, 1.11111111, 1.66666667, 2.22222222,\n",
       "        2.77777778, 3.33333333, 3.88888889, 4.44444444, 5.        ]),\n",
       " [array([ 5.06605712e-01,  4.85121112e-01, -5.31958324e-08,  5.05755292e-03]),\n",
       "  array([5.06611823e-01, 4.85115023e-01, 3.26376157e-07, 5.05715385e-03]),\n",
       "  array([ 0.47932831,  0.50964297, -0.00553717,  0.01206011]),\n",
       "  array([ 0.50598422,  0.47338546, -0.02950077,  0.04130193]),\n",
       "  array([0.49050406, 0.47881768, 0.00884358, 0.00781415]),\n",
       "  array([ 0.44316969,  0.50724604, -0.10594484,  0.13056206]),\n",
       "  array([ 0.44949389,  0.47987335, -0.10753597,  0.1420373 ]),\n",
       "  array([ 0.44622034,  0.44957373, -0.0309024 ,  0.08560396]),\n",
       "  array([0.44160514, 0.42208701, 0.05295035, 0.01971373]),\n",
       "  array([ 0.41037077,  0.42353401, -0.10671703,  0.19774534])],\n",
       " [116.92613159999999,\n",
       "  141.69338899999997,\n",
       "  77.21194589999999,\n",
       "  80.31289190000001,\n",
       "  68.14844900000003,\n",
       "  69.14889650000003,\n",
       "  64.40974239999991,\n",
       "  48.2809522,\n",
       "  50.73844550000001,\n",
       "  56.46201580000002])"
      ]
     },
     "execution_count": 7,
     "metadata": {},
     "output_type": "execute_result"
    }
   ],
   "source": [
    "block[0]"
   ]
  },
  {
   "cell_type": "code",
   "execution_count": 31,
   "metadata": {},
   "outputs": [],
   "source": [
    "workbook = xlsxwriter.Workbook('C:/Users/annam/Desktop/Johanna/CSC411/Comparison-of-Identification-Techniques/Data/TCL_ARX_order2_DIFEV.xlsx')\n",
    "worksheet1 = workbook.add_worksheet('Data')\n",
    "worksheet2 = workbook.add_worksheet('Results')\n",
    "\n",
    "bold = workbook.add_format({'bold': True})\n",
    "col = 0\n",
    "colcount = 0\n",
    "modcount = 0\n",
    "colct = 0\n",
    "runcount = 0\n",
    "row1=1 \n",
    "for run in block:\n",
    "    data = run[0]\n",
    "    std_dev = run[1]\n",
    "    coefficients = run[2]\n",
    "    runtimes = run[3]\n",
    "    for dataset in data:\n",
    "        worksheet1.write(0, col, \"run_\"+str(colcount), bold)\n",
    "        row = 1\n",
    "        for value in dataset:\n",
    "            worksheet1.write(row, col, value)\n",
    "            row+=1\n",
    "        col += 1\n",
    "        modcount+=1\n",
    "        if modcount %11 == 0:\n",
    "            colcount +=1\n",
    "            \n",
    "    for sig, rt, coeff in zip(std_dev, runtimes, coefficients):\n",
    "        worksheet2.write(row1, 0, \"run_\"+str(runcount))\n",
    "        col1=1\n",
    "        ct1=1\n",
    "        ct2=1\n",
    "        for cf in coeff:\n",
    "            worksheet2.write(0, col1, \"Coefficients\"+str(colct), bold)\n",
    "            if col1 <= m:\n",
    "                worksheet2.write(0, col1, 'a'+str(ct1), bold)\n",
    "                ct1 +=1\n",
    "            else:\n",
    "                worksheet2.write(0, col1, 'b'+str(ct2), bold)\n",
    "                ct2 +=1\n",
    "            \n",
    "            worksheet2.write(row1, col1, cf)\n",
    "            col1+=1\n",
    "        worksheet2.write(0, col1, \"std_dev\", bold)\n",
    "        worksheet2.write(0, col1+1, \"Runtime\"+str(colct), bold)\n",
    "        worksheet2.write(row1, col1, sig)\n",
    "        worksheet2.write(row1, col1+1, rt)\n",
    "        row1+=1\n",
    "    runcount+=1\n",
    "\n",
    "workbook.close()\n"
   ]
  }
 ],
 "metadata": {
  "kernelspec": {
   "display_name": "Python 3",
   "language": "python",
   "name": "python3"
  },
  "language_info": {
   "codemirror_mode": {
    "name": "ipython",
    "version": 3
   },
   "file_extension": ".py",
   "mimetype": "text/x-python",
   "name": "python",
   "nbconvert_exporter": "python",
   "pygments_lexer": "ipython3",
   "version": "3.7.1"
  }
 },
 "nbformat": 4,
 "nbformat_minor": 2
}
