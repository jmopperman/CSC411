{
 "cells": [
  {
   "cell_type": "code",
   "execution_count": 43,
   "metadata": {},
   "outputs": [],
   "source": [
    "import numpy as np\n",
    "import pandas\n",
    "import sympy"
   ]
  },
  {
   "cell_type": "code",
   "execution_count": 44,
   "metadata": {},
   "outputs": [],
   "source": [
    "df = pandas.read_csv('Step1.csv')\n",
    "ydata = df.T1.values\n",
    "udata = df.Q1.values\n",
    "time = df.Time.values"
   ]
  },
  {
   "cell_type": "code",
   "execution_count": 45,
   "metadata": {},
   "outputs": [
    {
     "data": {
      "text/plain": [
       "array([0., 0.])"
      ]
     },
     "execution_count": 45,
     "metadata": {},
     "output_type": "execute_result"
    }
   ],
   "source": [
    "ydev = ydata - ydata[0]\n",
    "udev = udata - udata[0]\n",
    "\n",
    "a1, a2, a3, a4, a5 = sympy.symbols('a1, a2, a3, a4, a5')\n",
    "ai = np.array([a1, a2, a3, a4, a5])\n",
    "order = 2\n",
    "ais = ai[:order]\n",
    "\n",
    "ydev[:order]"
   ]
  },
  {
   "cell_type": "code",
   "execution_count": 67,
   "metadata": {},
   "outputs": [
    {
     "data": {
      "text/plain": [
       "a1*y0 + a2*y1"
      ]
     },
     "execution_count": 67,
     "metadata": {},
     "output_type": "execute_result"
    }
   ],
   "source": [
    "a1, a2, a3, a4, a5 = sympy.symbols('a1, a2, a3, a4, a5')\n",
    "b1, b2, b3, b4, b5 = sympy.symbols('b1, b2, b3, b4, b5')\n",
    "y0, y1, y2, y3, y4, y5 = sympy.symbols('y0, y1, y2, y3, y4, y5')\n",
    "ai = np.array([a1, a2, a3, a4, a5])\n",
    "bi = np.array([b1, b2, b3, b4, b5])\n",
    "ys = np.array([y0, y1, y2, y3, y4, y5])\n",
    "ys[-1] = back1 = sympy.Symbol('back1')\n",
    "ys[-2] = back2 = sympy.Symbol('back2')\n",
    "order = 2\n",
    "yt = 0\n",
    "for index, n in enumerate(zip(ai[:order], ys[:order])):\n",
    "    yt += n[0]*n[1]\n",
    "    \n",
    "yt"
   ]
  },
  {
   "cell_type": "code",
   "execution_count": null,
   "metadata": {},
   "outputs": [],
   "source": []
  },
  {
   "cell_type": "code",
   "execution_count": null,
   "metadata": {},
   "outputs": [],
   "source": []
  }
 ],
 "metadata": {
  "kernelspec": {
   "display_name": "Python 3",
   "language": "python",
   "name": "python3"
  },
  "language_info": {
   "codemirror_mode": {
    "name": "ipython",
    "version": 3
   },
   "file_extension": ".py",
   "mimetype": "text/x-python",
   "name": "python",
   "nbconvert_exporter": "python",
   "pygments_lexer": "ipython3",
   "version": "3.7.1"
  }
 },
 "nbformat": 4,
 "nbformat_minor": 2
}
