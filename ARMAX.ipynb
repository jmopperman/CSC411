{
 "cells": [
  {
   "cell_type": "code",
   "execution_count": 1,
   "metadata": {},
   "outputs": [],
   "source": [
    "import numpy\n",
    "import matplotlib.pyplot as plt\n",
    "import statsmodels.api as sm\n",
    "import pandas "
   ]
  },
  {
   "cell_type": "markdown",
   "metadata": {},
   "source": [
    "### TClab data:"
   ]
  },
  {
   "cell_type": "code",
   "execution_count": 2,
   "metadata": {},
   "outputs": [],
   "source": [
    "df = pandas.read_csv('Step1.csv')\n",
    "ydata = df.T1.values\n",
    "udata = df.Q1.values\n",
    "# white noise:\n",
    "ϵ = numpy.random.normal(size=1001)"
   ]
  },
  {
   "cell_type": "markdown",
   "metadata": {},
   "source": [
    "### In statsmodels, statsmodels.tsa.ARMA() can be used to predict the parameters:"
   ]
  },
  {
   "cell_type": "code",
   "execution_count": 3,
   "metadata": {},
   "outputs": [
    {
     "name": "stderr",
     "output_type": "stream",
     "text": [
      "C:\\Users\\annam\\Anaconda3\\lib\\site-packages\\statsmodels\\base\\model.py:508: ConvergenceWarning: Maximum Likelihood optimization failed to converge. Check mle_retvals\n",
      "  \"Check mle_retvals\", ConvergenceWarning)\n"
     ]
    },
    {
     "data": {
      "text/html": [
       "<table class=\"simpletable\">\n",
       "<caption>ARMA Model Results</caption>\n",
       "<tr>\n",
       "  <th>Dep. Variable:</th>         <td>y</td>        <th>  No. Observations:  </th>   <td>1001</td>   \n",
       "</tr>\n",
       "<tr>\n",
       "  <th>Model:</th>            <td>ARMA(2, 1)</td>    <th>  Log Likelihood     </th>  <td>527.110</td> \n",
       "</tr>\n",
       "<tr>\n",
       "  <th>Method:</th>             <td>css-mle</td>     <th>  S.D. of innovations</th>   <td>0.142</td>  \n",
       "</tr>\n",
       "<tr>\n",
       "  <th>Date:</th>          <td>Wed, 30 Jan 2019</td> <th>  AIC                </th> <td>-1042.220</td>\n",
       "</tr>\n",
       "<tr>\n",
       "  <th>Time:</th>              <td>09:48:04</td>     <th>  BIC                </th> <td>-1012.767</td>\n",
       "</tr>\n",
       "<tr>\n",
       "  <th>Sample:</th>                <td>0</td>        <th>  HQIC               </th> <td>-1031.026</td>\n",
       "</tr>\n",
       "<tr>\n",
       "  <th></th>                       <td> </td>        <th>                     </th>     <td> </td>    \n",
       "</tr>\n",
       "</table>\n",
       "<table class=\"simpletable\">\n",
       "<tr>\n",
       "     <td></td>        <th>coef</th>     <th>std err</th>      <th>z</th>      <th>P>|z|</th>  <th>[0.025</th>    <th>0.975]</th>  \n",
       "</tr>\n",
       "<tr>\n",
       "  <th>const</th>   <td>   21.6835</td> <td>    0.587</td> <td>   36.956</td> <td> 0.000</td> <td>   20.533</td> <td>   22.833</td>\n",
       "</tr>\n",
       "<tr>\n",
       "  <th>x1</th>      <td> 1.722e-06</td> <td>    0.003</td> <td>    0.001</td> <td> 0.999</td> <td>   -0.005</td> <td>    0.005</td>\n",
       "</tr>\n",
       "<tr>\n",
       "  <th>ar.L1.y</th> <td>    0.5961</td> <td> 8.28e-06</td> <td>  7.2e+04</td> <td> 0.000</td> <td>    0.596</td> <td>    0.596</td>\n",
       "</tr>\n",
       "<tr>\n",
       "  <th>ar.L2.y</th> <td>    0.4039</td> <td> 5.61e-06</td> <td>  7.2e+04</td> <td> 0.000</td> <td>    0.404</td> <td>    0.404</td>\n",
       "</tr>\n",
       "<tr>\n",
       "  <th>ma.L1.y</th> <td>    0.0975</td> <td>    0.030</td> <td>    3.242</td> <td> 0.001</td> <td>    0.039</td> <td>    0.156</td>\n",
       "</tr>\n",
       "</table>\n",
       "<table class=\"simpletable\">\n",
       "<caption>Roots</caption>\n",
       "<tr>\n",
       "    <td></td>   <th>            Real</th>  <th>         Imaginary</th> <th>         Modulus</th>  <th>        Frequency</th>\n",
       "</tr>\n",
       "<tr>\n",
       "  <th>AR.1</th> <td>           1.0000</td> <td>          +0.0000j</td> <td>           1.0000</td> <td>           0.0000</td>\n",
       "</tr>\n",
       "<tr>\n",
       "  <th>AR.2</th> <td>          -2.4758</td> <td>          +0.0000j</td> <td>           2.4758</td> <td>           0.5000</td>\n",
       "</tr>\n",
       "<tr>\n",
       "  <th>MA.1</th> <td>         -10.2580</td> <td>          +0.0000j</td> <td>          10.2580</td> <td>           0.5000</td>\n",
       "</tr>\n",
       "</table>"
      ],
      "text/plain": [
       "<class 'statsmodels.iolib.summary.Summary'>\n",
       "\"\"\"\n",
       "                              ARMA Model Results                              \n",
       "==============================================================================\n",
       "Dep. Variable:                      y   No. Observations:                 1001\n",
       "Model:                     ARMA(2, 1)   Log Likelihood                 527.110\n",
       "Method:                       css-mle   S.D. of innovations              0.142\n",
       "Date:                Wed, 30 Jan 2019   AIC                          -1042.220\n",
       "Time:                        09:48:04   BIC                          -1012.767\n",
       "Sample:                             0   HQIC                         -1031.026\n",
       "                                                                              \n",
       "==============================================================================\n",
       "                 coef    std err          z      P>|z|      [0.025      0.975]\n",
       "------------------------------------------------------------------------------\n",
       "const         21.6835      0.587     36.956      0.000      20.533      22.833\n",
       "x1          1.722e-06      0.003      0.001      0.999      -0.005       0.005\n",
       "ar.L1.y        0.5961   8.28e-06    7.2e+04      0.000       0.596       0.596\n",
       "ar.L2.y        0.4039   5.61e-06    7.2e+04      0.000       0.404       0.404\n",
       "ma.L1.y        0.0975      0.030      3.242      0.001       0.039       0.156\n",
       "                                    Roots                                    \n",
       "=============================================================================\n",
       "                  Real          Imaginary           Modulus         Frequency\n",
       "-----------------------------------------------------------------------------\n",
       "AR.1            1.0000           +0.0000j            1.0000            0.0000\n",
       "AR.2           -2.4758           +0.0000j            2.4758            0.5000\n",
       "MA.1          -10.2580           +0.0000j           10.2580            0.5000\n",
       "-----------------------------------------------------------------------------\n",
       "\"\"\""
      ]
     },
     "execution_count": 3,
     "metadata": {},
     "output_type": "execute_result"
    }
   ],
   "source": [
    "# The order is chosen as (2,1) because it does not converge if the order \n",
    "# of the moving average model is higher than 1\n",
    "\n",
    "ARMA_results = sm.tsa.ARMA(ydata, order=(2,1), exog = udata).fit() #  \"exog = u\" turns this AMRA into an ARMAX model \n",
    "                                                                    #  by giving it the exogenous inputs\n",
    "ARMA_results.summary()"
   ]
  },
  {
   "cell_type": "code",
   "execution_count": 4,
   "metadata": {},
   "outputs": [],
   "source": [
    "const, x1, ar1, ar2, ma, = ARMA_results.params"
   ]
  },
  {
   "cell_type": "markdown",
   "metadata": {},
   "source": [
    "### The following difference equation was derived using the results from the summary above:"
   ]
  },
  {
   "cell_type": "markdown",
   "metadata": {},
   "source": [
    "\n",
    "$y(t) = ma_1\\epsilon(t-1) + ma_q\\epsilon(t-q) + \\epsilon(t) + ar_1y(t-1) + ar_py(t-p) +  x_1u(t-1)$\n",
    "\n",
    "where $\\epsilon$ is white noise, p is the order of the auto regression (AR) model and q is the order of the moving average (MA) model. \n",
    "\n",
    "As far as I understand, the moving average filter utilizes white noise. "
   ]
  },
  {
   "cell_type": "code",
   "execution_count": 5,
   "metadata": {},
   "outputs": [],
   "source": [
    "# t = numpy.arange(len(df)-1)\n",
    "# u = udata - udata[0]\n",
    "# ys = []\n",
    "# y = y_1 = y_2 = 0\n",
    "# for i, ti in enumerate(t):\n",
    "#     ϵ_1 = 0 if i < 1 else ϵ[i-1]\n",
    "#     u_1 = 0 if i < 1 else u[i-1]\n",
    "#     y_2, y_1 = y_1, y\n",
    "\n",
    "#     y = ar1*y_1 + ar2*y_2 + ma*ϵ_1 + ϵ[i] + x1*u_1\n",
    "#     ys.append(y)\n",
    "    \n",
    "# y_armax = numpy.array(ys) + ydata[0]\n"
   ]
  },
  {
   "cell_type": "code",
   "execution_count": 6,
   "metadata": {},
   "outputs": [],
   "source": [
    "# \"predict\" generates an array of predicted outcomes based on the ARMA analysis.\n",
    "y_armax = ARMA_results.predict(0, len(t)-1, u)"
   ]
  },
  {
   "cell_type": "code",
   "execution_count": 7,
   "metadata": {
    "scrolled": true
   },
   "outputs": [
    {
     "data": {
      "image/png": "[encoded data removed]",
      "text/plain": [
       "<Figure size 432x288 with 1 Axes>"
      ]
     },
     "metadata": {
      "needs_background": "light"
     },
     "output_type": "display_data"
    }
   ],
   "source": [
    "plt.plot(df.Time, df.T1, '.', label = 'observation')\n",
    "plt.plot(t, y_armax, label = 'ARX prediction')\n",
    "plt.ylabel('Temperature 1 (degress celcius)')\n",
    "plt.xlabel('Time (s)')\n",
    "plt.title(\"Step Response\")\n",
    "plt.legend()\n",
    "plt.show()"
   ]
  },
  {
   "cell_type": "markdown",
   "metadata": {},
   "source": [
    "A very convincing fit\n",
    "# I also changed here"
   ]
  },
  {
   "cell_type": "code",
   "execution_count": null,
   "metadata": {},
   "outputs": [],
   "source": []
  }
 ],
 "metadata": {
  "kernelspec": {
   "display_name": "Python 3",
   "language": "python",
   "name": "python3"
  },
  "language_info": {
   "codemirror_mode": {
    "name": "ipython",
    "version": 3
   },
   "file_extension": ".py",
   "mimetype": "text/x-python",
   "name": "python",
   "nbconvert_exporter": "python",
   "pygments_lexer": "ipython3",
   "version": "3.7.1"
  }
 },
 "nbformat": 4,
 "nbformat_minor": 2
}
