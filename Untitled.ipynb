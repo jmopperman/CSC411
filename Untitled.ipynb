{
 "cells": [
  {
   "cell_type": "code",
   "execution_count": 13,
   "metadata": {},
   "outputs": [],
   "source": [
    "import ARX_Optimization\n",
    "from config import input_datadir, result_datadir\n",
    "import pandas\n",
    "import matplotlib.pyplot as plt\n",
    "import numpy as np"
   ]
  },
  {
   "cell_type": "code",
   "execution_count": 14,
   "metadata": {},
   "outputs": [],
   "source": [
    "inputs = pandas.read_csv(input_datadir/'Step1.csv')\n",
    "ydata = inputs.T1\n",
    "udata = inputs.Q1\n",
    "Time = inputs.Time"
   ]
  },
  {
   "cell_type": "code",
   "execution_count": 29,
   "metadata": {},
   "outputs": [],
   "source": [
    "def simulate(coefficients, Uinput, m, n):\n",
    "    udev = Uinput - Uinput[0]\n",
    "    A, B = coefficients[:m], coefficients[m:]\n",
    "    Youtput = []\n",
    "    for i in range(len(udev)):\n",
    "        if i < len(B):\n",
    "            U = [0]*(len(B) - i) + list(udev[:i])\n",
    "        else:\n",
    "            j = i - len(B)\n",
    "            U = list(udev[j:i])\n",
    "        U.reverse()\n",
    "\n",
    "        if i < len(A):\n",
    "            Y = [0]*(len(A) - len(Youtput)) + Youtput\n",
    "        else:\n",
    "            Y = Youtput[-len(A):]\n",
    "        Y.reverse()\n",
    "\n",
    "        yt =ARX_Optimization.ARX(A, B, Y, U)\n",
    "        Youtput.append(yt)\n",
    "    return Youtput"
   ]
  },
  {
   "cell_type": "code",
   "execution_count": 30,
   "metadata": {},
   "outputs": [],
   "source": [
    "coeff = np.array([ 5.06607224e-01,  4.85119587e-01, -1.74670645e-08,  5.05752242e-03])\n",
    "sim = simulate(coeff, udata, 2, 2)"
   ]
  },
  {
   "cell_type": "code",
   "execution_count": 31,
   "metadata": {},
   "outputs": [
    {
     "data": {
      "text/plain": [
       "[<matplotlib.lines.Line2D at 0x299846dc6d8>]"
      ]
     },
     "execution_count": 31,
     "metadata": {},
     "output_type": "execute_result"
    },
    {
     "data": {
      "image/png": "[encoded data removed]",
      "text/plain": [
       "<Figure size 432x288 with 1 Axes>"
      ]
     },
     "metadata": {
      "needs_background": "light"
     },
     "output_type": "display_data"
    }
   ],
   "source": [
    "plt.plot(Time, ydata)\n",
    "plt.plot(Time, sim+ydata[0])"
   ]
  },
  {
   "cell_type": "code",
   "execution_count": null,
   "metadata": {},
   "outputs": [],
   "source": []
  }
 ],
 "metadata": {
  "kernelspec": {
   "display_name": "Python 3",
   "language": "python",
   "name": "python3"
  },
  "language_info": {
   "codemirror_mode": {
    "name": "ipython",
    "version": 3
   },
   "file_extension": ".py",
   "mimetype": "text/x-python",
   "name": "python",
   "nbconvert_exporter": "python",
   "pygments_lexer": "ipython3",
   "version": "3.7.1"
  }
 },
 "nbformat": 4,
 "nbformat_minor": 2
}
