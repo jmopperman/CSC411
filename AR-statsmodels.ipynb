{
 "cells": [
  {
   "cell_type": "code",
   "execution_count": 1,
   "metadata": {},
   "outputs": [],
   "source": [
    "import numpy\n",
    "import matplotlib.pyplot as plt\n",
    "import statsmodels.api as sm\n",
    "import pandas "
   ]
  },
  {
   "cell_type": "code",
   "execution_count": 51,
   "metadata": {},
   "outputs": [],
   "source": [
    "def extract_data(filename):\n",
    "    df = pandas.read_csv(filename)\n",
    "    ydata = df.T1.values \n",
    "    udata = df.Q1.values \n",
    "    return ydata, udata"
   ]
  },
  {
   "cell_type": "code",
   "execution_count": 52,
   "metadata": {},
   "outputs": [],
   "source": [
    "def ARX(filename):\n",
    "    ydata, udata = extract_data(filename)\n",
    "    ARX_results = sm.tsa.AR(ydata).fit()\n",
    "    y_arx = ARX_results.predict()\n",
    "    t_arx = numpy.arange(len(y_arx))\n",
    "    return y_arx, t_arx"
   ]
  },
  {
   "cell_type": "code",
   "execution_count": 53,
   "metadata": {},
   "outputs": [],
   "source": [
    "def Results(filename):\n",
    "    y_arx, t_arx = ARX(filename)\n",
    "    df = pandas.read_csv(filename)\n",
    "    plt.plot(df.Time, df.T1, '.', label = 'observation')\n",
    "    plt.plot(t_arx, y_arx, label = 'ARX prediction')\n",
    "    plt.ylabel('Temperature 1 (degress celcius)')\n",
    "    plt.xlabel('Time (s)')\n",
    "    plt.title(filename)\n",
    "    plt.legend()\n",
    "    plt.show()"
   ]
  },
  {
   "cell_type": "code",
   "execution_count": null,
   "metadata": {},
   "outputs": [],
   "source": [
    "Results('')"
   ]
  },
  {
   "cell_type": "code",
   "execution_count": 46,
   "metadata": {
    "scrolled": true
   },
   "outputs": [
    {
     "data": {
      "text/plain": [
       "[<matplotlib.lines.Line2D at 0x1b751777320>]"
      ]
     },
     "execution_count": 46,
     "metadata": {},
     "output_type": "execute_result"
    },
    {
     "data": {
      "image/png": "[encoded data removed]",
      "text/plain": [
       "<Figure size 432x288 with 1 Axes>"
      ]
     },
     "metadata": {
      "needs_background": "light"
     },
     "output_type": "display_data"
    }
   ],
   "source": [
    "df = pandas.read_csv('Step1.csv')\n",
    "ydata = df.T1.values  \n",
    "udata = df.Q1.values  \n",
    "t = numpy.arange(len(df))\n",
    "ts = numpy.arange(980)\n",
    "ARX_results = sm.tsa.AR(ydata).fit()\n",
    "ys = ARX_results.predict()\n",
    "plt.plot(ts, ys)\n",
    "plt.plot(t, ydata)"
   ]
  },
  {
   "cell_type": "code",
   "execution_count": 45,
   "metadata": {},
   "outputs": [
    {
     "data": {
      "text/plain": [
       "<bound method Results.summary of <statsmodels.tsa.ar_model.ARResults object at 0x000001B75172B828>>"
      ]
     },
     "execution_count": 45,
     "metadata": {},
     "output_type": "execute_result"
    }
   ],
   "source": [
    "ARX_results.summary"
   ]
  },
  {
   "cell_type": "code",
   "execution_count": null,
   "metadata": {},
   "outputs": [],
   "source": []
  }
 ],
 "metadata": {
  "kernelspec": {
   "display_name": "Python 3",
   "language": "python",
   "name": "python3"
  },
  "language_info": {
   "codemirror_mode": {
    "name": "ipython",
    "version": 3
   },
   "file_extension": ".py",
   "mimetype": "text/x-python",
   "name": "python",
   "nbconvert_exporter": "python",
   "pygments_lexer": "ipython3",
   "version": "3.7.1"
  }
 },
 "nbformat": 4,
 "nbformat_minor": 2
}
