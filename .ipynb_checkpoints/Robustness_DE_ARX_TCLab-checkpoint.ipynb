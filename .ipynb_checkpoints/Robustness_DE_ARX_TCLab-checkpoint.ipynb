{
 "cells": [
  {
   "cell_type": "code",
   "execution_count": null,
   "metadata": {},
   "outputs": [],
   "source": [
    "import scipy.optimize\n",
    "import pandas\n",
    "import numpy as np\n",
    "import matplotlib.pyplot as plt\n",
    "import timeit\n",
    "from random import gauss\n",
    "import seaborn\n",
    "%matplotlib inline"
   ]
  },
  {
   "cell_type": "code",
   "execution_count": null,
   "metadata": {
    "scrolled": false
   },
   "outputs": [],
   "source": [
    "df = pandas.read_csv('Step1.csv')\n",
    "ydata1 = df.T1.values\n",
    "udata1 = df.Q1.values\n",
    "t1 = df.Time.values"
   ]
  },
  {
   "cell_type": "code",
   "execution_count": null,
   "metadata": {},
   "outputs": [],
   "source": [
    "def add_noise(ydata, sigma):\n",
    "    sig = np.linspace(0,sigma,10)  # specifying sigma determines the range \n",
    "                                    # of noise to be invesitgated, with 10 variations each time.\n",
    "    otpts = ydata                   # The clean data is returned here for simplicity later.            \n",
    "    for s in sig:\n",
    "        noise = []\n",
    "        for i in range(len(ydata)):\n",
    "            noise.append(gauss(1,s))\n",
    "        yn = ydata + noise\n",
    "        otpts = np.vstack((otpts, yn)) # stacked arrays of output data with varying degeres of noise\n",
    "    return otpts, sig\n",
    "\n",
    "def ARX(A, B, Y, U):\n",
    "    return A.dot(Y) + B.dot(U)\n",
    "\n",
    "def OF_gen(ydata, udata, m, n):\n",
    "    ydev = ydata - ydata[0]\n",
    "    udev = udata - udata[0]\n",
    "    def OF(x):\n",
    "        A, B = x[:m], x[m:]\n",
    "\n",
    "        ydev_app = np.concatenate([[0]*m, ydev])\n",
    "        udev_app = np.concatenate([[0]*n, udev]) \n",
    "\n",
    "        summ = 0\n",
    "        for j in range(len(ydev)):\n",
    "            k = j + m\n",
    "            l = j + n\n",
    "\n",
    "            Y = np.flip(ydev_app[j:k])\n",
    "            U = np.flip(udev_app[j:l])\n",
    "            yt = ARX_Model.ARX(A, B, Y, U)\n",
    "            summ += (ydev[j] - yt)**2\n",
    "\n",
    "        return summ\n",
    "    return OF\n",
    "\n",
    "def simulate(coefficients, Uinput, m, n):\n",
    "    udev = Uinput - Uinput[0]\n",
    "    A, B = coefficients[1:m+1], coefficients[m+1:]\n",
    "    Youtput = []\n",
    "    for i in range(len(udev)):\n",
    "        if i < len(B):\n",
    "            U = [0]*(len(B) - i) + list(udev[:i])\n",
    "        else:\n",
    "            j = i - len(B)\n",
    "            U = list(udev[j:i])\n",
    "        U.reverse()\n",
    "\n",
    "        if i < len(A):\n",
    "            Y = [0]*(len(A) - len(Youtput)) + Youtput\n",
    "        else:\n",
    "            Y = Youtput[-len(A):]\n",
    "        Y.reverse()\n",
    "\n",
    "        yt = ARX_Model.ARX(A, B, Y, U)\n",
    "        Youtput.append(yt)\n",
    "    return Youtput\n",
    "\n",
    "def DE_rt_coeffs(bounds, ydata, udata, m, n):\n",
    "    OF = ARX_model_OF.OF_gen(m, n, ydata, udata)        \n",
    "    \n",
    "    start = timeit.default_timer()\n",
    "    rt_and_coeff = scipy.optimize.differential_evolution(OF, bounds).x\n",
    "    end = timeit.default_timer()\n",
    "       \n",
    "    return np.array(rt_and_coeff)"
   ]
  },
  {
   "cell_type": "code",
   "execution_count": 43,
   "metadata": {},
   "outputs": [
    {
     "data": {
      "text/plain": [
       "array([ 0.47039285,  0.41646872,  0.28640073, -0.17871097])"
      ]
     },
     "execution_count": 43,
     "metadata": {},
     "output_type": "execute_result"
    }
   ],
   "source": [
    "par_error = []\n",
    "# specify the order:\n",
    "m, n = 2, 2\n",
    "\n",
    "# initialize bounds:\n",
    "bnds = ((-1,1),(-1,1),(-1,1),(-1,1))\n",
    "\n",
    "# Adding 10 degrees of noise:\n",
    "otpts, std_dev = add_noise(ydata1, 5)\n",
    "\n",
    "# The first degree is zero and thus just the original data:\n",
    "clean_coeffs = DE_rt_coeffs(bnds, otpts[0,:], udata1, m, n)\n",
    "\n",
    "# Getting the runtime of the clean data:\n",
    "rts = [clean_coeffs[0]]\n",
    "\n",
    "# Now to get the runtimes, coefficients and errors of the noisy data:\n",
    "for i in range(1,10):\n",
    "    ni = otpts[i,:]\n",
    "    noise_coeffs = DE_rt_coeffs(bnds, ni, udata1, m, n)\n",
    "    difference =  sum(abs(np.subtract(clean_coeffs[1:], noise_coeffs[1:])))  # first value is runtime\n",
    "    par_error.append(difference**2)\n",
    "    rts.append(noise_coeffs[0])"
   ]
  },
  {
   "cell_type": "code",
   "execution_count": 44,
   "metadata": {},
   "outputs": [],
   "source": [
    "# Simulating the identified coefficients:\n",
    "Yout_clean = simulate(clean_coeffs, udata1, m, n) + ydata1[0] # no noise\n",
    "Yout_noise = simulate(noise_coeffs, udata1, m, n) + ydata1[0] # Largest nosie degree"
   ]
  },
  {
   "cell_type": "code",
   "execution_count": null,
   "metadata": {},
   "outputs": [],
   "source": [
    "error_data = pandas.DataFrame(np.transpose([np.array(par_error), np.array(rts), np.array(sig)]), columns=['Error', 'Runtime', 'Standard_Deviation'])"
   ]
  },
  {
   "cell_type": "code",
   "execution_count": null,
   "metadata": {},
   "outputs": [],
   "source": [
    "error_data.to_csv('Parameter_Error_and_Runtime_1')"
   ]
  },
  {
   "cell_type": "code",
   "execution_count": null,
   "metadata": {},
   "outputs": [],
   "source": [
    "simulations = pandas.DataFrame(np.transpose([Yout_clean, Yout_noise]), columns=['Original_Data', 'Largest_Noise'])"
   ]
  },
  {
   "cell_type": "code",
   "execution_count": null,
   "metadata": {},
   "outputs": [],
   "source": [
    "simulations.to_csv('Outputs1')"
   ]
  }
 ],
 "metadata": {
  "kernelspec": {
   "display_name": "Python 3",
   "language": "python",
   "name": "python3"
  },
  "language_info": {
   "codemirror_mode": {
    "name": "ipython",
    "version": 3
   },
   "file_extension": ".py",
   "mimetype": "text/x-python",
   "name": "python",
   "nbconvert_exporter": "python",
   "pygments_lexer": "ipython3",
   "version": "3.7.1"
  }
 },
 "nbformat": 4,
 "nbformat_minor": 2
}
