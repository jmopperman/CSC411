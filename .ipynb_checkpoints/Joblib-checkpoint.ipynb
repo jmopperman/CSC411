{
 "cells": [
  {
   "cell_type": "code",
   "execution_count": 1,
   "metadata": {},
   "outputs": [],
   "source": [
    "from joblib import Parallel, delayed\n",
    "import numpy as np\n",
    "import pandas\n",
    "import xlsxwriter\n",
    "from config import input_datadir, result_datadir\n",
    "import os"
   ]
  },
  {
   "cell_type": "code",
   "execution_count": 2,
   "metadata": {},
   "outputs": [
    {
     "data": {
      "text/plain": [
       "['.ipynb_checkpoints',\n",
       " 'desktop.ini',\n",
       " 'Doublet1_Q1_only.csv',\n",
       " 'Nonlinear_Tank_System.ipynb',\n",
       " 'Rpi1_Q1_only.csv',\n",
       " 'Step1.csv']"
      ]
     },
     "execution_count": 2,
     "metadata": {},
     "output_type": "execute_result"
    }
   ],
   "source": [
    "os.listdir(input_datadir)"
   ]
  },
  {
   "cell_type": "code",
   "execution_count": 7,
   "metadata": {},
   "outputs": [],
   "source": [
    "def fn(x):\n",
    "    row = 0\n",
    "    for filename in os.listdir(input_datadir):\n",
    "        if filename.endswith(\".csv\"):\n",
    "            df = pandas.read_csv(input_datadir/filename)\n",
    "            ys = df.T1\n",
    "            a = np.array(ys)*2\n",
    "            new_filename = 'Results'+str(x)+'.xlsx'\n",
    "            workbook = xlsxwriter.Workbook(result_datadir/new_filename)\n",
    "            worksheet1 = workbook.add_worksheet()\n",
    "            worksheet1.write(row, 0, a[0])\n",
    "            row+=1\n",
    "    workbook.close()"
   ]
  },
  {
   "cell_type": "code",
   "execution_count": 8,
   "metadata": {},
   "outputs": [],
   "source": [
    "fn(0)"
   ]
  },
  {
   "cell_type": "code",
   "execution_count": null,
   "metadata": {},
   "outputs": [],
   "source": [
    "ans = Parallel(n_jobs=-1)(delayed(fn)(x) for x in np.linspace(0,5,5))\n",
    "ans"
   ]
  }
 ],
 "metadata": {
  "kernelspec": {
   "display_name": "Python 3",
   "language": "python",
   "name": "python3"
  },
  "language_info": {
   "codemirror_mode": {
    "name": "ipython",
    "version": 3
   },
   "file_extension": ".py",
   "mimetype": "text/x-python",
   "name": "python",
   "nbconvert_exporter": "python",
   "pygments_lexer": "ipython3",
   "version": "3.7.1"
  }
 },
 "nbformat": 4,
 "nbformat_minor": 2
}
