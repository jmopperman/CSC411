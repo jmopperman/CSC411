{
 "cells": [
  {
   "cell_type": "code",
   "execution_count": 1,
   "metadata": {},
   "outputs": [],
   "source": [
    "from joblib import Parallel, delayed\n",
    "import ARX_Optimization \n",
    "import pandas\n",
    "import numpy as np\n",
    "import xlsxwriter\n",
    "import pathlib\n",
    "import configparser\n",
    "from config import input_datadir, result_datadir\n",
    "import matplotlib.pyplot as plt\n",
    "import os\n",
    "import fnmatch"
   ]
  },
  {
   "cell_type": "code",
   "execution_count": 5,
   "metadata": {},
   "outputs": [],
   "source": [
    "def analysis(N, order):\n",
    "    m, n = order\n",
    "    col1=0\n",
    "    for filename in os.listdir(input_datadir):\n",
    "        if filename.endswith('.csv'):\n",
    "            df = pandas.read_csv(input_datadir/filename)\n",
    "            ydata = df.T1\n",
    "            udata = df.Q1\n",
    "            times = df.Time\n",
    "            \n",
    "            # Adding 10 degrees of noise:\n",
    "            otpts, std_dev = ARX_Optimization.add_noise(ydata, 5) # 5 is the standard deviaton \n",
    "            \n",
    "            #######\n",
    "            bnds = tuple((1,1) for _ in range(m+n))\n",
    "            glob_args = bnds, ydata, udata, m, n\n",
    "            in_g = [1 for i in range(m+n)]\n",
    "            int_args = in_g, ydata, udata, m, n    \n",
    "            \n",
    "            coefficients = []\n",
    "            runtimes = []\n",
    "            for i in range(len(otpts)):\n",
    "                ni = otpts[i,:]\n",
    "                for method_name, method in ARX_Optimization.__dict__.items():\n",
    "                    if callable(method) and fnmatch.fnmatch(method_name, '*coeffs'):\n",
    "                        if fnmatch.fnmatch(method_name, 'DE*'):\n",
    "                            rts, coeffs = method(*glob_args)\n",
    "                        else:\n",
    "                            rts, coeffs = method(*int_args)\n",
    "                        coefficients.append(coeffs)\n",
    "                        runtimes.append(rts)\n",
    "\n",
    "                        new_filename = os.path.splitext(filename)[0]+str(method_name)+'_m'+str(m)+'_n'+str(n)+\"_\"+str(N)+'.xlsx'\n",
    "                        workbook = xlsxwriter.Workbook(result_datadir/new_filename)\n",
    "                        worksheet1 = workbook.add_worksheet(\"Input_Data\")\n",
    "                        worksheet2 = workbook.add_worksheet(\"ID_Results\")\n",
    "\n",
    "                        col = 1\n",
    "                        for set_ in otpts:\n",
    "                            row = 0\n",
    "                            for value, t in zip(set_, times):\n",
    "                                worksheet1.write(row, 0, t)\n",
    "                                worksheet1.write(row, col, value)\n",
    "                                row +=1\n",
    "                            col+=1\n",
    "\n",
    "\n",
    "\n",
    "                        row1 = 0\n",
    "                        for rt, sig, cf in zip(runtimes, std_dev, coefficients):\n",
    "                            col1 = 0\n",
    "                            for c in cf:\n",
    "                                worksheet2.write(row1, col1, c)\n",
    "                                col1+=1\n",
    "                            worksheet2.write(row1, col1, rt)\n",
    "                            worksheet2.write(row1, col1+1, sig)\n",
    "                            row1 +=1\n",
    "                        col +=1\n",
    "\n",
    "                        workbook.close()\n"
   ]
  },
  {
   "cell_type": "code",
   "execution_count": null,
   "metadata": {},
   "outputs": [],
   "source": [
    "Parallel(n_jobs=-1)(delayed(analysis)(x, [1,1]) for x in range(10))"
   ]
  },
  {
   "cell_type": "code",
   "execution_count": null,
   "metadata": {},
   "outputs": [],
   "source": []
  }
 ],
 "metadata": {
  "kernelspec": {
   "display_name": "Python 3",
   "language": "python",
   "name": "python3"
  },
  "language_info": {
   "codemirror_mode": {
    "name": "ipython",
    "version": 3
   },
   "file_extension": ".py",
   "mimetype": "text/x-python",
   "name": "python",
   "nbconvert_exporter": "python",
   "pygments_lexer": "ipython3",
   "version": "3.7.1"
  }
 },
 "nbformat": 4,
 "nbformat_minor": 2
}
