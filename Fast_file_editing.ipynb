{
 "cells": [
  {
   "cell_type": "code",
   "execution_count": 11,
   "metadata": {},
   "outputs": [
    {
     "data": {
      "text/html": [
       "<style>#notebook { padding-top:0px !important; } .container { width:100% !important; } .end_space { min-height:0px !important; } </style>"
      ],
      "text/plain": [
       "<IPython.core.display.HTML object>"
      ]
     },
     "metadata": {},
     "output_type": "display_data"
    }
   ],
   "source": [
    "from IPython.core.display import display, HTML\n",
    "display(HTML(\"<style>\"\n",
    "    + \"#notebook { padding-top:0px !important; } \" \n",
    "    + \".container { width:100% !important; } \"\n",
    "    + \".end_space { min-height:0px !important; } \"\n",
    "    + \"</style>\"))"
   ]
  },
  {
   "cell_type": "code",
   "execution_count": 2,
   "metadata": {},
   "outputs": [],
   "source": [
    "from joblib import Parallel, delayed\n",
    "import ARX_Optimization \n",
    "import pandas\n",
    "import numpy as np\n",
    "import xlsxwriter\n",
    "import pathlib\n",
    "import configparser\n",
    "from config import input_datadir, result_datadir\n",
    "import matplotlib.pyplot as plt\n",
    "import os\n",
    "import fnmatch"
   ]
  },
  {
   "cell_type": "code",
   "execution_count": 3,
   "metadata": {},
   "outputs": [],
   "source": [
    "for filename in os.listdir(input_datadir):\n",
    "        if filename.endswith('.csv'):\n",
    "            df = pandas.read_csv(input_datadir/filename)\n",
    "            ydata = df.T1\n",
    "            udata = df.Q1\n",
    "            times = df.Time\n",
    "            \n",
    "            # Adding 10 degrees of noise:\n",
    "            otpts, std_dev = ARX_Optimization.add_noise(ydata, 5)"
   ]
  },
  {
   "cell_type": "code",
   "execution_count": 52,
   "metadata": {},
   "outputs": [
    {
     "data": {
      "text/plain": [
       "(5.0, 11, array([22.03798087, 18.67142355, 22.81314973, ..., 51.34667596,\n",
       "        48.64740394, 51.86777716]))"
      ]
     },
     "execution_count": 52,
     "metadata": {},
     "output_type": "execute_result"
    }
   ],
   "source": [
    "std_dev[9], len(otpts), otpts[10,:]"
   ]
  },
  {
   "cell_type": "code",
   "execution_count": 57,
   "metadata": {},
   "outputs": [],
   "source": [
    "N = 'TEST'\n",
    "m = n = 2\n",
    "\n",
    "for method_name, method in ARX_Optimization.__dict__.items():\n",
    "    if callable(method) and fnmatch.fnmatch(method_name, '*coeffs'):\n",
    "        if fnmatch.fnmatch(method_name, 'DE*'):\n",
    "            runtimes = []\n",
    "            coefficients = []\n",
    "            for i in range(len(otpts)):\n",
    "                ni = otpts[i,:]\n",
    "                bnds = tuple((1,1) for j in range(m+n))\n",
    "                glob_args = bnds, ni, udata, m, n\n",
    "                rts = 'rt'\n",
    "                coeffs = np.array(['a1', 'a2', 'b1', 'b2'])\n",
    "#                 rts, coeffs = method(*glob_args)\n",
    "                runtimes.append(rts)\n",
    "                coefficients.append(coeffs)\n",
    "        \n",
    "        else:\n",
    "            runtimes = []\n",
    "            coefficients = []\n",
    "            for i in range(len(otpts)):\n",
    "                ni = otpts[i,:]\n",
    "                initial_guess = [1 for k in range(m+n)]\n",
    "                int_args = initial_guess, ni, udata, m, n\n",
    "                rts = 'rt'\n",
    "                coeffs = np.array(['a1', 'a2', 'b1', 'b2'])\n",
    "#                 rts, coeffs = method(*int_args)\n",
    "                runtimes.append(rts)\n",
    "                coefficients.append(coeffs)\n",
    "\n",
    "        new_filename = os.path.splitext(filename)[0]+str(method_name)+'_m'+str(m)+'_n'+str(n)+\"_\"+str(N)+'.xlsx'\n",
    "        workbook = xlsxwriter.Workbook(result_datadir/new_filename)\n",
    "        worksheet1 = workbook.add_worksheet(\"Input_Data\")\n",
    "        worksheet2 = workbook.add_worksheet(\"ID_Results\")\n",
    "\n",
    "        col = 0\n",
    "        for set_ in otpts:\n",
    "            row = 0\n",
    "            for value, t in zip(set_, times):\n",
    "                worksheet1.write(row, 0, t)\n",
    "                worksheet1.write(row, col, value)\n",
    "                row +=1\n",
    "            col+=1\n",
    "        row1=0\n",
    "        for cf, rt, sig in zip(coefficients, runtimes, std_dev):\n",
    "            col1=0\n",
    "            for c in cf:\n",
    "                worksheet2.write(row1, col1, c)\n",
    "                col1+=1\n",
    "            worksheet2.write(row1, col1, rt)\n",
    "            worksheet2.write(row1, col1+1, sig)\n",
    "            row1+=1\n",
    "        workbook.close()\n",
    "\n"
   ]
  },
  {
   "cell_type": "code",
   "execution_count": 17,
   "metadata": {},
   "outputs": [
    {
     "data": {
      "text/plain": [
       "((1, 1), (1, 1), (1, 1), (1, 1))"
      ]
     },
     "execution_count": 17,
     "metadata": {},
     "output_type": "execute_result"
    }
   ],
   "source": [
    "bnds"
   ]
  },
  {
   "cell_type": "code",
   "execution_count": 12,
   "metadata": {},
   "outputs": [],
   "source": [
    "import scipy.optimize"
   ]
  },
  {
   "cell_type": "code",
   "execution_count": 23,
   "metadata": {},
   "outputs": [
    {
     "data": {
      "text/plain": [
       "array([0., 0.])"
      ]
     },
     "execution_count": 23,
     "metadata": {},
     "output_type": "execute_result"
    }
   ],
   "source": [
    "import numpy as np\n",
    "def ackley(x):\n",
    "    arg1 = -0.2 * np.sqrt(0.5 * (x[0] ** 2 + x[1] ** 2))\n",
    "    arg2 = 0.5 * (np.cos(2. * np.pi * x[0]) + np.cos(2. * np.pi * x[1]))\n",
    "    return -20. * np.exp(arg1) - np.exp(arg2) + 20. + np.e\n",
    "bounds = [(-5, 5), (-5, 5)]\n",
    "result = scipy.optimize.differential_evolution(ackley, bounds).x\n",
    "result"
   ]
  }
 ],
 "metadata": {
  "kernelspec": {
   "display_name": "Python 3",
   "language": "python",
   "name": "python3"
  },
  "language_info": {
   "codemirror_mode": {
    "name": "ipython",
    "version": 3
   },
   "file_extension": ".py",
   "mimetype": "text/x-python",
   "name": "python",
   "nbconvert_exporter": "python",
   "pygments_lexer": "ipython3",
   "version": "3.7.1"
  }
 },
 "nbformat": 4,
 "nbformat_minor": 2
}
