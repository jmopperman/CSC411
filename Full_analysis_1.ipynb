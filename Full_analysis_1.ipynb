{
 "cells": [
  {
   "cell_type": "code",
   "execution_count": 2,
   "metadata": {},
   "outputs": [],
   "source": [
    "from joblib import Parallel, delayed\n",
    "import ARX_Optimization \n",
    "import pandas\n",
    "import numpy as np\n",
    "import xlsxwriter\n",
    "import pathlib\n",
    "import configparser\n",
    "from config import input_datadir, result_datadir\n",
    "import matplotlib.pyplot as plt\n",
    "import os\n",
    "import fnmatch"
   ]
  },
  {
   "cell_type": "code",
   "execution_count": 1,
   "metadata": {},
   "outputs": [
    {
     "data": {
      "text/html": [
       "<style>#notebook { padding-top:0px !important; } .container { width:100% !important; } .end_space { min-height:0px !important; } </style>"
      ],
      "text/plain": [
       "<IPython.core.display.HTML object>"
      ]
     },
     "metadata": {},
     "output_type": "display_data"
    }
   ],
   "source": [
    "from IPython.core.display import display, HTML\n",
    "display(HTML(\"<style>\"\n",
    "    + \"#notebook { padding-top:0px !important; } \" \n",
    "    + \".container { width:100% !important; } \"\n",
    "    + \".end_space { min-height:0px !important; } \"\n",
    "    + \"</style>\"))"
   ]
  },
  {
   "cell_type": "code",
   "execution_count": 3,
   "metadata": {},
   "outputs": [],
   "source": [
    "def analysis(N, order):\n",
    "    m, n = order\n",
    "    row1 = 0\n",
    "    for filename in os.listdir(input_datadir):\n",
    "        if filename.endswith('.csv'):\n",
    "            df = pandas.read_csv(input_datadir/filename)\n",
    "            ydata = df.T1\n",
    "            udata = df.Q1\n",
    "            times = df.Time\n",
    "            \n",
    "            # Adding 10 degrees of noise:\n",
    "            otpts, std_dev = ARX_Optimization.add_noise(ydata, 5) # 5 is the standard deviaton    \n",
    "\n",
    "            for method in ARX_Optimization.ID_techs:\n",
    "                if fnmatch.fnmatch(method.__name__, 'DE*'):\n",
    "                    runtimes = []\n",
    "                    coefficients = []\n",
    "                    for i in range(len(otpts)):\n",
    "                        ni = otpts[i,:]\n",
    "                        bnds = tuple((-1,1) for j in range(m+n))\n",
    "                        glob_args = bnds, ni, udata, m, n\n",
    "                        rts, coeffs = method(*glob_args)\n",
    "                        runtimes.append(rts)\n",
    "                        coefficients.append(coeffs)\n",
    "\n",
    "                else:\n",
    "                    runtimes = []\n",
    "                    coefficients = []\n",
    "                    for i in range(len(otpts)):\n",
    "                        ni = otpts[i,:]\n",
    "                        initial_guess = [1 for k in range(m+n)]\n",
    "                        int_args = initial_guess, ni, udata, m, n\n",
    "                        rts, coeffs = method(*int_args)\n",
    "                        runtimes.append(rts)\n",
    "                        coefficients.append(coeffs)\n",
    "\n",
    "                    new_filename = os.path.splitext(filename)[0]+str(method_name)+'_m'+str(m)+'_n'+str(n)+\"_\"+str(N)+'.xlsx'\n",
    "                    workbook = xlsxwriter.Workbook(result_datadir/new_filename)\n",
    "                    worksheet1 = workbook.add_worksheet(\"Input_Data\")\n",
    "                    worksheet2 = workbook.add_worksheet(\"ID_Results\")\n",
    "\n",
    "                    col = 0\n",
    "                    for set_ in otpts:\n",
    "                        row = 0\n",
    "                        for value, t in zip(set_, times):\n",
    "                            worksheet1.write(row, 0, t)\n",
    "                            worksheet1.write(row, col, value)\n",
    "                            row +=1\n",
    "                        col+=1\n",
    "                    row1=0\n",
    "                    for cf, rt, sig in zip(coefficients, runtimes, std_dev):\n",
    "                        col1=0\n",
    "                        for c in cf:\n",
    "                            worksheet2.write(row1, col1, c)\n",
    "                            col1+=1\n",
    "                        worksheet2.write(row1, col1, rt)\n",
    "                        worksheet2.write(row1, col1+1, sig)\n",
    "                        row1+=1\n",
    "                    workbook.close()\n",
    "\n"
   ]
  },
  {
   "cell_type": "code",
   "execution_count": 4,
   "metadata": {},
   "outputs": [
    {
     "data": {
      "text/plain": [
       "[None, None, None, None, None, None, None, None, None, None]"
      ]
     },
     "execution_count": 4,
     "metadata": {},
     "output_type": "execute_result"
    }
   ],
   "source": [
    "Parallel(n_jobs=-1)(delayed(analysis)(x, [1,1]) for x in range(10))"
   ]
  },
  {
   "cell_type": "code",
   "execution_count": null,
   "metadata": {},
   "outputs": [],
   "source": []
  }
 ],
 "metadata": {
  "kernelspec": {
   "display_name": "Python 3",
   "language": "python",
   "name": "python3"
  },
  "language_info": {
   "codemirror_mode": {
    "name": "ipython",
    "version": 3
   },
   "file_extension": ".py",
   "mimetype": "text/x-python",
   "name": "python",
   "nbconvert_exporter": "python",
   "pygments_lexer": "ipython3",
   "version": "3.7.1"
  }
 },
 "nbformat": 4,
 "nbformat_minor": 2
}
