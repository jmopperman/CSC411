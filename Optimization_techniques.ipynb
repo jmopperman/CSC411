{
 "cells": [
  {
   "cell_type": "code",
   "execution_count": 1,
   "metadata": {},
   "outputs": [],
   "source": [
    "import scipy.optimize\n",
    "import pandas\n",
    "import numpy as np\n",
    "import matplotlib.pyplot as plt"
   ]
  },
  {
   "cell_type": "code",
   "execution_count": 2,
   "metadata": {},
   "outputs": [],
   "source": [
    "df = pandas.read_csv('Step1.csv')\n",
    "ydata = df.T1.values\n",
    "udata = df.Q1.values\n",
    "time = df.Time.values\n",
    "\n",
    "ydev = ydata - ydata[0]\n",
    "udev = ydata - udata[0]"
   ]
  },
  {
   "cell_type": "code",
   "execution_count": 42,
   "metadata": {},
   "outputs": [],
   "source": [
    "def ARX(A, B, Y, U):\n",
    "#     print(\"A\", [len(i) for i in [A, B, Y, U]])\n",
    "    return A.dot(Y) + B.dot(U)"
   ]
  },
  {
   "cell_type": "code",
   "execution_count": 21,
   "metadata": {},
   "outputs": [],
   "source": [
    "# The objective function for doublet\n",
    "\n",
    "def OF_gen(m, n, ydev, udev):\n",
    "    def OF(x):\n",
    "        A, B = x[:m], x[m:]\n",
    "#         print(\"B\", x, x[:m], x[m+1:])\n",
    "\n",
    "        ydev_app = np.concatenate([ydev, [0]*m])\n",
    "        udev_app = np.concatenate([udev, [0]*n]) \n",
    "\n",
    "        summ = 0\n",
    "        for j in range(len(ydev)):\n",
    "            k = j + m\n",
    "            l = j + n\n",
    "\n",
    "            Y = np.flip(ydev_app[j:k])\n",
    "            U = np.flip(udev_app[j:l])\n",
    "            yt = ARX(A, B, Y, U)\n",
    "            summ += (ydev[j] - yt)**2\n",
    "\n",
    "        return summ\n",
    "    return OF"
   ]
  },
  {
   "cell_type": "code",
   "execution_count": 50,
   "metadata": {},
   "outputs": [],
   "source": [
    "def simulate(A, B, Uinput):\n",
    "#     Y = [0]*len(A)\n",
    "    Youtput = []\n",
    "    for i in range(len(Uinput)):\n",
    "        if i < len(B):\n",
    "            U = [0]*(len(B) - i) + list(Uinput[:i])\n",
    "        else:\n",
    "            j = i - len(B)\n",
    "            U = list(Uinput[j:i])\n",
    "        U.reverse()\n",
    "#         yt = ARX(A, B, Y, U)\n",
    "#         Y.pop()\n",
    "#         Y = [yt] + Y\n",
    "        \n",
    "        if i < len(A):\n",
    "            Y = [0]*(len(A) - len(Youtput)) + Youtput\n",
    "        else:\n",
    "            Y = Youtput[-len(A):]\n",
    "        Y.reverse()\n",
    "\n",
    "        yt = ARX(A, B, Y, U)\n",
    "        Youtput.append(yt)\n",
    "    return Youtput"
   ]
  },
  {
   "cell_type": "markdown",
   "metadata": {},
   "source": [
    "## I'm identifying the parameters of an ARX model using differential evolution."
   ]
  },
  {
   "cell_type": "code",
   "execution_count": 40,
   "metadata": {},
   "outputs": [],
   "source": [
    "m = 2\n",
    "n = 2\n",
    "OF = OF_gen(m, n, ydev, udev)"
   ]
  },
  {
   "cell_type": "code",
   "execution_count": 29,
   "metadata": {
    "scrolled": true
   },
   "outputs": [
    {
     "data": {
      "text/plain": [
       "      fun: 9.358158185686272e-10\n",
       " hess_inv: array([[ 0.14483635, -0.14435039, -0.08573226,  0.08543442],\n",
       "       [-0.14435039,  0.14389416,  0.0854473 , -0.08516588],\n",
       "       [-0.08573226,  0.0854473 ,  0.05093858, -0.05076361],\n",
       "       [ 0.08543442, -0.08516588, -0.05076361,  0.05059797]])\n",
       "      jac: array([ 4.03370129e-10,  1.69812067e-10, -2.59172515e-09, -2.05896959e-09])\n",
       "  message: 'Optimization terminated successfully.'\n",
       "     nfev: 72\n",
       "      nit: 8\n",
       "     njev: 12\n",
       "   status: 0\n",
       "  success: True\n",
       "        x: array([ 3.98536678e-06,  9.99996235e-01, -2.34232707e-06,  2.21276569e-06])"
      ]
     },
     "execution_count": 29,
     "metadata": {},
     "output_type": "execute_result"
    }
   ],
   "source": [
    "# Comparison with minimize.\n",
    "\n",
    "Xo = [0.9799079, 0.01606574, 0.001687, 0.00264688]\n",
    "par_min = scipy.optimize.minimize(OF, Xo)\n",
    "par_min"
   ]
  },
  {
   "cell_type": "code",
   "execution_count": 51,
   "metadata": {},
   "outputs": [],
   "source": [
    "A, B = par_min.x[:m], par_min.x[m:]\n",
    "Yout = simulate(A, B, udev)"
   ]
  },
  {
   "cell_type": "code",
   "execution_count": 52,
   "metadata": {},
   "outputs": [
    {
     "data": {
      "image/png": "[encoded data removed]",
      "text/plain": [
       "<Figure size 432x288 with 1 Axes>"
      ]
     },
     "metadata": {},
     "output_type": "display_data"
    }
   ],
   "source": [
    "plt.plot(time, Yout)\n",
    "plt.show()"
   ]
  },
  {
   "cell_type": "code",
   "execution_count": 24,
   "metadata": {},
   "outputs": [
    {
     "data": {
      "text/plain": [
       "     fun: 0.0\n",
       " message: 'Optimization terminated successfully.'\n",
       "    nfev: 35205\n",
       "     nit: 584\n",
       " success: True\n",
       "       x: array([0., 1., 0., 0.])"
      ]
     },
     "execution_count": 24,
     "metadata": {},
     "output_type": "execute_result"
    }
   ],
   "source": [
    "# Differential Evolution.\n",
    "\n",
    "bnds = ((-1,1), (-1,1), (-1,1), (-1,1))#, (-1,1), (-1,1))\n",
    "par_DE = scipy.optimize.differential_evolution(OF, bounds=bnds)\n",
    "par_DE"
   ]
  },
  {
   "cell_type": "markdown",
   "metadata": {},
   "source": [
    "### Not sure why this optimization isn't successful, yet the same values for a1, a2, b1 and b2 are determined as in differential evolution."
   ]
  },
  {
   "cell_type": "markdown",
   "metadata": {},
   "source": [
    "## Calculating Predictions"
   ]
  },
  {
   "cell_type": "code",
   "execution_count": 6,
   "metadata": {},
   "outputs": [],
   "source": [
    "# Step response\n",
    "a1, a2, b1, b2 = par_DE.x\n",
    "\n",
    "ydev = ydata - ydata[0]\n",
    "udev = udata - udata[0]\n",
    "\n",
    "    \n",
    "y_difev = []\n",
    "us = []\n",
    "y_0 = y_1 = y_2 = ydev[0]\n",
    "for i, ti in enumerate(time):\n",
    "    u_1 = 0 if i < 1 else udev[i-1]\n",
    "    u_2 = 0 if i < 2 else udev[i-2]\n",
    "    y_2, y_1 = y_1, y_0\n",
    "    y_0 = a1*y_1 + a2*y_2 + b1*u_1 + b2*u_2\n",
    "    us.append([u_1, u_2])\n",
    "    y_difev.append(y_0)\n",
    "\n",
    "y_difev = np.array(y_difev + ydata[0]) \n"
   ]
  },
  {
   "cell_type": "code",
   "execution_count": 7,
   "metadata": {},
   "outputs": [
    {
     "data": {
      "text/plain": [
       "[<matplotlib.lines.Line2D at 0x7f043fa88710>]"
      ]
     },
     "execution_count": 7,
     "metadata": {},
     "output_type": "execute_result"
    }
   ],
   "source": [
    "plt.plot(time, ydata)\n",
    "plt.plot(time, y_difev)"
   ]
  },
  {
   "cell_type": "markdown",
   "metadata": {},
   "source": [
    "### Now for other data:"
   ]
  },
  {
   "cell_type": "code",
   "execution_count": 8,
   "metadata": {},
   "outputs": [],
   "source": [
    "rpi = pandas.read_csv('Rpi1_Q1_only.csv')\n",
    "yrpi = rpi.T1.values\n",
    "urpi = rpi.Q1.values\n",
    "t_rpi = rpi.Time.values\n",
    "\n",
    "doublet = pandas.read_csv('Doublet1_Q1_only.csv')\n",
    "y_doublet = doublet.T1.values\n",
    "u_doublet = doublet.Q1.values\n",
    "t_doublet = doublet.Time.values"
   ]
  },
  {
   "cell_type": "code",
   "execution_count": 9,
   "metadata": {},
   "outputs": [],
   "source": [
    "# The objective function for RPI\n",
    "\n",
    "def OF_rpi(x):\n",
    "    a1, a2, b1, b2 = x\n",
    "    ydev = yrpi - yrpi[0]\n",
    "    udev = urpi - urpi[0]\n",
    "    yt = []\n",
    "    for i, it in enumerate(time):\n",
    "        if i-1<0:\n",
    "            y1 = ydev[0]\n",
    "            u1 = udev[0]\n",
    "        else:\n",
    "            y1 = ydev[i-1]\n",
    "            u1 = udev[i-1]\n",
    "        if i-2<0:\n",
    "            y2 = ydev[0]\n",
    "            u2 = udev[0]\n",
    "        else:\n",
    "            y2 = ydev[i-2]\n",
    "            u2 = udev[i-2]\n",
    "        if i-3<0:\n",
    "            y3 = ydev[0]\n",
    "            u3 = udev[0]\n",
    "        else:\n",
    "            y3 = ydev[i-3]\n",
    "            u3 = udev[i-3]\n",
    "        yt.append(a1*y1 + a2*y2 + b1*u1 + b2*u2 )#+ a3*y3 + b3*u3)\n",
    "    \n",
    "    return sum((yrpi - (yt+yrpi[0]))**2)"
   ]
  },
  {
   "cell_type": "code",
   "execution_count": 10,
   "metadata": {},
   "outputs": [
    {
     "data": {
      "text/plain": [
       "     fun: 15.963949602543154\n",
       "     jac: array([-0.00121929, -0.00109246, -0.00340421, -0.00234586])\n",
       " message: 'Optimization terminated successfully.'\n",
       "    nfev: 4160\n",
       "     nit: 66\n",
       " success: True\n",
       "       x: array([4.82263695e-01, 5.09284201e-01, 2.96500825e-04, 4.97146085e-03])"
      ]
     },
     "execution_count": 10,
     "metadata": {},
     "output_type": "execute_result"
    }
   ],
   "source": [
    "# Differential Evolution RPI.\n",
    "\n",
    "bnds = ((-1,1), (-1,1), (-1,1), (-1,1))#, (-1,1), (-1,1))\n",
    "par_rpi = scipy.optimize.differential_evolution(OF_rpi, bounds=bnds)\n",
    "par_rpi"
   ]
  },
  {
   "cell_type": "code",
   "execution_count": 11,
   "metadata": {},
   "outputs": [],
   "source": [
    "# RPI\n",
    "a1, a2, b1, b2 = par_rpi.x\n",
    "\n",
    "ydev = yrpi - yrpi[0]\n",
    "udev = urpi - urpi[0]\n",
    "\n",
    "    \n",
    "y_difev_rpi= []\n",
    "us = []\n",
    "y_0 = y_1 = y_2 = ydev[0]\n",
    "for i, ti in enumerate(time):\n",
    "    u_1 = 0 if i < 1 else udev[i-1]\n",
    "    u_2 = 0 if i < 2 else udev[i-2]\n",
    "    y_2, y_1 = y_1, y_0\n",
    "    y_0 = a1*y_1 + a2*y_2 + b1*u_1 + b2*u_2\n",
    "    us.append([u_1, u_2])\n",
    "    y_difev_rpi.append(y_0)\n",
    "\n",
    "y_difev_rpi = np.array(y_difev_rpi + yrpi[0]) \n"
   ]
  },
  {
   "cell_type": "code",
   "execution_count": 12,
   "metadata": {},
   "outputs": [
    {
     "data": {
      "text/plain": [
       "[<matplotlib.lines.Line2D at 0x7f043f783e10>]"
      ]
     },
     "execution_count": 12,
     "metadata": {},
     "output_type": "execute_result"
    }
   ],
   "source": [
    "plt.plot(time, yrpi)\n",
    "plt.plot(time, y_difev_rpi)"
   ]
  },
  {
   "cell_type": "code",
   "execution_count": 14,
   "metadata": {},
   "outputs": [
    {
     "data": {
      "text/plain": [
       "     fun: 16.876595076354054\n",
       "     jac: array([ 0.02270255,  0.02252172, -0.0179984 , -0.01574598])\n",
       " message: 'Optimization terminated successfully.'\n",
       "    nfev: 3275\n",
       "     nit: 51\n",
       " success: True\n",
       "       x: array([ 0.69801782,  0.30296859, -0.00686488,  0.01344923])"
      ]
     },
     "execution_count": 14,
     "metadata": {},
     "output_type": "execute_result"
    }
   ],
   "source": [
    "# Differential Evolution Doublet.\n",
    "\n",
    "bnds = ((-1,1), (-1,1), (-1,1), (-1,1))#, (-1,1), (-1,1))\n",
    "par_doublet = scipy.optimize.differential_evolution(OF_doublet, bounds=bnds)\n",
    "par_doublet"
   ]
  },
  {
   "cell_type": "code",
   "execution_count": 15,
   "metadata": {},
   "outputs": [],
   "source": [
    "# Doublet\n",
    "a1, a2, b1, b2 = par_doublet.x\n",
    "\n",
    "ydev = y_doublet - y_doublet[0]\n",
    "udev = u_doublet - u_doublet[0]\n",
    "\n",
    "    \n",
    "y_difev_doub= []\n",
    "us = []\n",
    "y_0 = y_1 = y_2 = ydev[0]\n",
    "for i, ti in enumerate(time):\n",
    "    u_1 = 0 if i < 1 else udev[i-1]\n",
    "    u_2 = 0 if i < 2 else udev[i-2]\n",
    "    y_2, y_1 = y_1, y_0\n",
    "    y_0 = a1*y_1 + a2*y_2 + b1*u_1 + b2*u_2\n",
    "    us.append([u_1, u_2])\n",
    "    y_difev_doub.append(y_0)\n",
    "\n",
    "y_difev_doub = np.array(y_difev_doub + y_doublet[0]) "
   ]
  },
  {
   "cell_type": "code",
   "execution_count": 16,
   "metadata": {},
   "outputs": [
    {
     "data": {
      "text/plain": [
       "[<matplotlib.lines.Line2D at 0x7f043f77d630>]"
      ]
     },
     "execution_count": 16,
     "metadata": {},
     "output_type": "execute_result"
    }
   ],
   "source": [
    "plt.plot(time, y_doublet)\n",
    "plt.plot(time, y_difev_doub)"
   ]
  },
  {
   "cell_type": "code",
   "execution_count": null,
   "metadata": {},
   "outputs": [],
   "source": []
  }
 ],
 "metadata": {
  "kernelspec": {
   "display_name": "Python 3",
   "language": "python",
   "name": "python3"
  },
  "language_info": {
   "codemirror_mode": {
    "name": "ipython",
    "version": 3
   },
   "file_extension": ".py",
   "mimetype": "text/x-python",
   "name": "python",
   "nbconvert_exporter": "python",
   "pygments_lexer": "ipython3",
   "version": "3.6.8"
  }
 },
 "nbformat": 4,
 "nbformat_minor": 2
}
