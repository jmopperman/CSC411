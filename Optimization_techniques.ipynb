{
 "cells": [
  {
   "cell_type": "code",
   "execution_count": 56,
   "metadata": {},
   "outputs": [],
   "source": [
    "import scipy.optimize\n",
    "import pandas\n",
    "import numpy as np\n",
    "import matplotlib.pyplot as plt"
   ]
  },
  {
   "cell_type": "code",
   "execution_count": 57,
   "metadata": {},
   "outputs": [],
   "source": [
    "df = pandas.read_csv('Step1.csv')\n",
    "ydata = df.T1.values\n",
    "udata = df.Q1.values\n",
    "time = df.Time.values"
   ]
  },
  {
   "cell_type": "markdown",
   "metadata": {},
   "source": [
    "## I'm identifying the parameters of an ARX model using differential evolution."
   ]
  },
  {
   "cell_type": "code",
   "execution_count": 58,
   "metadata": {},
   "outputs": [],
   "source": [
    "# The objective function\n",
    "\n",
    "def OF(x):\n",
    "    a1, a2, b1, b2 = x\n",
    "    ydev = ydata - ydata[0]\n",
    "    udev = udata - udata[0]\n",
    "    yt = []\n",
    "    for i, it in enumerate(time):\n",
    "        if i-1<0:\n",
    "            y1 = ydev[0]\n",
    "            u1 = udev[0]\n",
    "        else:\n",
    "            y1 = ydev[i-1]\n",
    "            u1 = udev[i-1]\n",
    "        if i-2<0:\n",
    "            y2 = ydev[0]\n",
    "            u2 = udev[0]\n",
    "        else:\n",
    "            y2 = ydev[i-2]\n",
    "            u2 = udev[i-2]\n",
    "        if i-3<0:\n",
    "            y3 = ydev[0]\n",
    "            u3 = udev[0]\n",
    "        else:\n",
    "            y3 = ydev[i-3]\n",
    "            u3 = udev[i-3]\n",
    "        yt.append(a1*y1 + a2*y2 + b1*u1 + b2*u2 )#+ a3*y3 + b3*u3)\n",
    "    \n",
    "    return sum((ydata - (yt+ydata[0]))**2)"
   ]
  },
  {
   "cell_type": "code",
   "execution_count": 59,
   "metadata": {},
   "outputs": [
    {
     "data": {
      "text/plain": [
       "     fun: 14.951286752157444\n",
       "     jac: array([0.01219327, 0.01218794, 0.02304148, 0.02317488])\n",
       " message: 'Optimization terminated successfully.'\n",
       "    nfev: 3820\n",
       "     nit: 61\n",
       " success: True\n",
       "       x: array([ 5.06607185e-01,  4.85119632e-01, -3.15652833e-08,  5.05753857e-03])"
      ]
     },
     "execution_count": 59,
     "metadata": {},
     "output_type": "execute_result"
    }
   ],
   "source": [
    "# Differential Evolution.\n",
    "\n",
    "bnds = ((-1,1), (-1,1), (-1,1), (-1,1))#, (-1,1), (-1,1))\n",
    "par_DE = scipy.optimize.differential_evolution(OF, bounds=bnds)\n",
    "par_DE"
   ]
  },
  {
   "cell_type": "code",
   "execution_count": 60,
   "metadata": {},
   "outputs": [
    {
     "data": {
      "text/plain": [
       "      fun: 14.951286752436344\n",
       " hess_inv: array([[ 6.14018390e-06,  5.27049872e-06, -7.21612001e-06,\n",
       "         1.97101482e-06],\n",
       "       [ 5.27049872e-06,  5.50951327e-06,  2.95768864e-06,\n",
       "        -8.04365697e-06],\n",
       "       [-7.21612001e-06,  2.95768864e-06,  2.01238501e-04,\n",
       "        -1.99309405e-04],\n",
       "       [ 1.97101482e-06, -8.04365697e-06, -1.99309405e-04,\n",
       "         2.02410044e-04]])\n",
       "      jac: array([-1.66893005e-06, -1.31130219e-06,  9.53674316e-06,  9.53674316e-06])\n",
       "  message: 'Optimization terminated successfully.'\n",
       "     nfev: 662\n",
       "      nit: 11\n",
       "     njev: 108\n",
       "   status: 0\n",
       "  success: True\n",
       "        x: array([ 5.06607783e-01,  4.85119055e-01, -7.43814990e-09,  5.05749624e-03])"
      ]
     },
     "execution_count": 60,
     "metadata": {},
     "output_type": "execute_result"
    }
   ],
   "source": [
    "# Comparison with minimize.\n",
    "\n",
    "Xo = [0.9799079, 0.01606574, 0.001687, 0.00264688]\n",
    "par_min = scipy.optimize.minimize(OF, Xo)\n",
    "par_min"
   ]
  },
  {
   "cell_type": "markdown",
   "metadata": {},
   "source": [
    "### Not sure why this optimization isn't successful, yet the same values for a1, a2, b1 and b2 are determined as in differential evolution."
   ]
  },
  {
   "cell_type": "markdown",
   "metadata": {},
   "source": [
    "## Calculating Predictions"
   ]
  },
  {
   "cell_type": "code",
   "execution_count": 61,
   "metadata": {},
   "outputs": [],
   "source": [
    "# Step response\n",
    "a1, a2, b1, b2 = par_DE.x\n",
    "\n",
    "ydev = ydata - ydata[0]\n",
    "udev = udata - udata[0]\n",
    "\n",
    "    \n",
    "y_difev = []\n",
    "us = []\n",
    "y_0 = y_1 = y_2 = ydev[0]\n",
    "for i, ti in enumerate(time):\n",
    "    u_1 = 0 if i < 1 else udev[i-1]\n",
    "    u_2 = 0 if i < 2 else udev[i-2]\n",
    "    y_2, y_1 = y_1, y_0\n",
    "    y_0 = a1*y_1 + a2*y_2 + b1*u_1 + b2*u_2\n",
    "    us.append([u_1, u_2])\n",
    "    y_difev.append(y_0)\n",
    "\n",
    "y_difev = np.array(y_difev + ydata[0]) \n"
   ]
  },
  {
   "cell_type": "code",
   "execution_count": 62,
   "metadata": {},
   "outputs": [
    {
     "data": {
      "text/plain": [
       "[<matplotlib.lines.Line2D at 0x279cbcf13c8>]"
      ]
     },
     "execution_count": 62,
     "metadata": {},
     "output_type": "execute_result"
    },
    {
     "data": {
      "image/png": "[encoded data removed]",
      "text/plain": [
       "<Figure size 432x288 with 1 Axes>"
      ]
     },
     "metadata": {
      "needs_background": "light"
     },
     "output_type": "display_data"
    }
   ],
   "source": [
    "plt.plot(time, ydata)\n",
    "plt.plot(time, y_difev)"
   ]
  },
  {
   "cell_type": "markdown",
   "metadata": {},
   "source": [
    "### Now for other data:"
   ]
  },
  {
   "cell_type": "code",
   "execution_count": 63,
   "metadata": {},
   "outputs": [],
   "source": [
    "rpi = pandas.read_csv('Rpi1_Q1_only.csv')\n",
    "yrpi = rpi.T1.values\n",
    "urpi = rpi.Q1.values\n",
    "t_rpi = rpi.Time.values\n",
    "\n",
    "doublet = pandas.read_csv('Doublet1_Q1_only.csv')\n",
    "y_doublet = doublet.T1.values\n",
    "u_doublet = doublet.Q1.values\n",
    "t_doublet = doublet.Time.values"
   ]
  },
  {
   "cell_type": "code",
   "execution_count": 64,
   "metadata": {},
   "outputs": [],
   "source": [
    "# The objective function for RPI\n",
    "\n",
    "def OF_rpi(x):\n",
    "    a1, a2, b1, b2 = x\n",
    "    ydev = yrpi - yrpi[0]\n",
    "    udev = urpi - urpi[0]\n",
    "    yt = []\n",
    "    for i, it in enumerate(time):\n",
    "        if i-1<0:\n",
    "            y1 = ydev[0]\n",
    "            u1 = udev[0]\n",
    "        else:\n",
    "            y1 = ydev[i-1]\n",
    "            u1 = udev[i-1]\n",
    "        if i-2<0:\n",
    "            y2 = ydev[0]\n",
    "            u2 = udev[0]\n",
    "        else:\n",
    "            y2 = ydev[i-2]\n",
    "            u2 = udev[i-2]\n",
    "        if i-3<0:\n",
    "            y3 = ydev[0]\n",
    "            u3 = udev[0]\n",
    "        else:\n",
    "            y3 = ydev[i-3]\n",
    "            u3 = udev[i-3]\n",
    "        yt.append(a1*y1 + a2*y2 + b1*u1 + b2*u2 )#+ a3*y3 + b3*u3)\n",
    "    \n",
    "    return sum((yrpi - (yt+yrpi[0]))**2)"
   ]
  },
  {
   "cell_type": "code",
   "execution_count": 66,
   "metadata": {},
   "outputs": [
    {
     "data": {
      "text/plain": [
       "     fun: 15.963949604628832\n",
       "     jac: array([-0.01643361, -0.01601812, -0.02497327, -0.02642864])\n",
       " message: 'Optimization terminated successfully.'\n",
       "    nfev: 3385\n",
       "     nit: 53\n",
       " success: True\n",
       "       x: array([4.82256601e-01, 5.09291230e-01, 2.96792035e-04, 4.97119401e-03])"
      ]
     },
     "execution_count": 66,
     "metadata": {},
     "output_type": "execute_result"
    }
   ],
   "source": [
    "# Differential Evolution RPI.\n",
    "\n",
    "bnds = ((-1,1), (-1,1), (-1,1), (-1,1))#, (-1,1), (-1,1))\n",
    "par_rpi = scipy.optimize.differential_evolution(OF_rpi, bounds=bnds)\n",
    "par_rpi"
   ]
  },
  {
   "cell_type": "code",
   "execution_count": 68,
   "metadata": {},
   "outputs": [],
   "source": [
    "# RPI\n",
    "a1, a2, b1, b2 = par_rpi.x\n",
    "\n",
    "ydev = yrpi - yrpi[0]\n",
    "udev = urpi - urpi[0]\n",
    "\n",
    "    \n",
    "y_difev_rpi= []\n",
    "us = []\n",
    "y_0 = y_1 = y_2 = ydev[0]\n",
    "for i, ti in enumerate(time):\n",
    "    u_1 = 0 if i < 1 else udev[i-1]\n",
    "    u_2 = 0 if i < 2 else udev[i-2]\n",
    "    y_2, y_1 = y_1, y_0\n",
    "    y_0 = a1*y_1 + a2*y_2 + b1*u_1 + b2*u_2\n",
    "    us.append([u_1, u_2])\n",
    "    y_difev_rpi.append(y_0)\n",
    "\n",
    "y_difev_rpi = np.array(y_difev_rpi + yrpi[0]) \n"
   ]
  },
  {
   "cell_type": "code",
   "execution_count": 70,
   "metadata": {},
   "outputs": [
    {
     "data": {
      "text/plain": [
       "[<matplotlib.lines.Line2D at 0x279cab94048>]"
      ]
     },
     "execution_count": 70,
     "metadata": {},
     "output_type": "execute_result"
    },
    {
     "data": {
      "image/png": "[encoded data removed]",
      "text/plain": [
       "<Figure size 432x288 with 1 Axes>"
      ]
     },
     "metadata": {
      "needs_background": "light"
     },
     "output_type": "display_data"
    }
   ],
   "source": [
    "plt.plot(time, yrpi)\n",
    "plt.plot(time, y_difev_rpi)"
   ]
  },
  {
   "cell_type": "code",
   "execution_count": 74,
   "metadata": {},
   "outputs": [],
   "source": [
    "# The objective function for doublet\n",
    "\n",
    "def OF_doublet(x):\n",
    "    a1, a2, b1, b2 = x\n",
    "    ydev = y_doublet - y_doublet[0]\n",
    "    udev = u_doublet - u_doublet[0]\n",
    "    yt = []\n",
    "    for i, it in enumerate(time):\n",
    "        if i-1<0:\n",
    "            y1 = ydev[0]\n",
    "            u1 = udev[0]\n",
    "        else:\n",
    "            y1 = ydev[i-1]\n",
    "            u1 = udev[i-1]\n",
    "        if i-2<0:\n",
    "            y2 = ydev[0]\n",
    "            u2 = udev[0]\n",
    "        else:\n",
    "            y2 = ydev[i-2]\n",
    "            u2 = udev[i-2]\n",
    "        if i-3<0:\n",
    "            y3 = ydev[0]\n",
    "            u3 = udev[0]\n",
    "        else:\n",
    "            y3 = ydev[i-3]\n",
    "            u3 = udev[i-3]\n",
    "        yt.append(a1*y1 + a2*y2 + b1*u1 + b2*u2 )#+ a3*y3 + b3*u3)\n",
    "    \n",
    "    return sum((y_doublet - (yt+y_doublet[0]))**2)"
   ]
  },
  {
   "cell_type": "code",
   "execution_count": null,
   "metadata": {},
   "outputs": [],
   "source": [
    "# Differential Evolution Doublet.\n",
    "\n",
    "bnds = ((-1,1), (-1,1), (-1,1), (-1,1))#, (-1,1), (-1,1))\n",
    "par_doublet = scipy.optimize.differential_evolution(OF_doublet, bounds=bnds)\n",
    "par_doublet"
   ]
  },
  {
   "cell_type": "code",
   "execution_count": null,
   "metadata": {},
   "outputs": [],
   "source": [
    "# Doublet\n",
    "a1, a2, b1, b2 = par_doublet.x\n",
    "\n",
    "ydev = y_doublet - y_doublet[0]\n",
    "udev = u_doublet - u_doublet[0]\n",
    "\n",
    "    \n",
    "y_difev_doub= []\n",
    "us = []\n",
    "y_0 = y_1 = y_2 = ydev[0]\n",
    "for i, ti in enumerate(time):\n",
    "    u_1 = 0 if i < 1 else udev[i-1]\n",
    "    u_2 = 0 if i < 2 else udev[i-2]\n",
    "    y_2, y_1 = y_1, y_0\n",
    "    y_0 = a1*y_1 + a2*y_2 + b1*u_1 + b2*u_2\n",
    "    us.append([u_1, u_2])\n",
    "    y_difev_doub.append(y_0)\n",
    "\n",
    "y_difev_doub = np.array(y_difev_doub + y_doublet[0]) "
   ]
  },
  {
   "cell_type": "code",
   "execution_count": 73,
   "metadata": {},
   "outputs": [
    {
     "data": {
      "text/plain": [
       "[<matplotlib.lines.Line2D at 0x279cabab7b8>]"
      ]
     },
     "execution_count": 73,
     "metadata": {},
     "output_type": "execute_result"
    },
    {
     "data": {
      "image/png": "[encoded data removed]",
      "text/plain": [
       "<Figure size 432x288 with 1 Axes>"
      ]
     },
     "metadata": {
      "needs_background": "light"
     },
     "output_type": "display_data"
    }
   ],
   "source": [
    "plt.plot(time, y_doublet)\n",
    "plt.plot(time, y_difev_doub)"
   ]
  },
  {
   "cell_type": "code",
   "execution_count": null,
   "metadata": {},
   "outputs": [],
   "source": []
  }
 ],
 "metadata": {
  "kernelspec": {
   "display_name": "Python 3",
   "language": "python",
   "name": "python3"
  },
  "language_info": {
   "codemirror_mode": {
    "name": "ipython",
    "version": 3
   },
   "file_extension": ".py",
   "mimetype": "text/x-python",
   "name": "python",
   "nbconvert_exporter": "python",
   "pygments_lexer": "ipython3",
   "version": "3.7.1"
  }
 },
 "nbformat": 4,
 "nbformat_minor": 2
}
