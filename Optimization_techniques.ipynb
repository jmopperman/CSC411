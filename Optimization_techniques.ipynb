{
 "cells": [
  {
   "cell_type": "code",
   "execution_count": 46,
   "metadata": {},
   "outputs": [],
   "source": [
    "import scipy.optimize\n",
    "import pandas\n",
    "import numpy as np\n",
    "import matplotlib.pyplot as plt"
   ]
  },
  {
   "cell_type": "code",
   "execution_count": 5,
   "metadata": {},
   "outputs": [],
   "source": [
    "df = pandas.read_csv('Step1.csv')\n",
    "ydata = df.T1.values\n",
    "udata = df.Q1.values\n",
    "time = df.Time.values"
   ]
  },
  {
   "cell_type": "markdown",
   "metadata": {},
   "source": [
    "## I'm identifying the parameters of an ARX model using differential evolution."
   ]
  },
  {
   "cell_type": "code",
   "execution_count": 68,
   "metadata": {},
   "outputs": [],
   "source": [
    "# The objective function\n",
    "\n",
    "def OF(x):\n",
    "    a1, a2, b1, b2 = x\n",
    "    yt = []\n",
    "    for i, it in enumerate(time):\n",
    "        if i-1<0:\n",
    "            y1 = ydata[0]\n",
    "            u1 = udata[0]\n",
    "        else:\n",
    "            y1 = ydata[i-1]\n",
    "            u1 = udata[i-1]\n",
    "        if i-2<0:\n",
    "            y2 = ydata[0]\n",
    "            u2 = udata[0]\n",
    "        else:\n",
    "            y2 = ydata[i-2]\n",
    "            u2 = udata[i-2]\n",
    "        yt.append(a1*y1 + a2*y2 + b1*u1 + b2*u2)\n",
    "    \n",
    "    return sum((ydata - yt)**2)"
   ]
  },
  {
   "cell_type": "code",
   "execution_count": 36,
   "metadata": {},
   "outputs": [
    {
     "data": {
      "text/plain": [
       "     fun: 16.009488649780057\n",
       "     jac: array([ 0.22022917,  0.22103919, -0.07813483, -0.12744223])\n",
       " message: 'Optimization terminated successfully.'\n",
       "    nfev: 3635\n",
       "     nit: 57\n",
       " success: True\n",
       "       x: array([0.54322843, 0.45104887, 0.00240761, 0.00375616])"
      ]
     },
     "execution_count": 36,
     "metadata": {},
     "output_type": "execute_result"
    }
   ],
   "source": [
    "# Differential Evolution.\n",
    "\n",
    "bnds = ((0,1), (0,1), (0,1), (0,1))\n",
    "scipy.optimize.differential_evolution(OF, bounds=bnds)"
   ]
  },
  {
   "cell_type": "markdown",
   "metadata": {},
   "source": [
    "### Unforunately error^2 is quite large ... therefore the error is 4 here."
   ]
  },
  {
   "cell_type": "code",
   "execution_count": 38,
   "metadata": {},
   "outputs": [
    {
     "data": {
      "text/plain": [
       "      fun: 16.00948807224082\n",
       " hess_inv: array([[ 5.41999339e-01, -5.55212401e-01,  6.40450563e-03,\n",
       "         5.53902275e-03],\n",
       "       [-5.55212401e-01,  5.68748109e-01, -6.56042080e-03,\n",
       "        -5.67468385e-03],\n",
       "       [ 6.40450563e-03, -6.56042080e-03,  2.75358294e-04,\n",
       "        -1.34462981e-04],\n",
       "       [ 5.53902275e-03, -5.67468385e-03, -1.34462981e-04,\n",
       "         2.57273789e-04]])\n",
       "      jac: array([-5.24520874e-05, -4.91142273e-05,  3.21865082e-05,  3.19480896e-05])\n",
       "  message: 'Desired error not necessarily achieved due to precision loss.'\n",
       "     nfev: 260\n",
       "      nit: 11\n",
       "     njev: 42\n",
       "   status: 2\n",
       "  success: False\n",
       "        x: array([0.54321525, 0.45105994, 0.00239863, 0.00376711])"
      ]
     },
     "execution_count": 38,
     "metadata": {},
     "output_type": "execute_result"
    }
   ],
   "source": [
    "# Comparison with minimize.\n",
    "\n",
    "Xo = [0.9799079, 0.01606574, 0.001687, 0.00264688]\n",
    "scipy.optimize.minimize(OF, Xo)"
   ]
  },
  {
   "cell_type": "markdown",
   "metadata": {},
   "source": [
    "### Not sure why this optimization isn't successful, yet the same values for a1, a2, b1 and b2 are determined as in differential evolution."
   ]
  },
  {
   "cell_type": "markdown",
   "metadata": {},
   "source": [
    "## Calculating Predictions"
   ]
  },
  {
   "cell_type": "code",
   "execution_count": 82,
   "metadata": {},
   "outputs": [],
   "source": [
    "# Step response\n",
    "a1, a2, b1, b2 = 0.54321525, 0.45105994, 0.00239863, 0.00376711\n",
    "lstsq = [0.9799079,0.01606574,0.001687,0.00264688]\n",
    "y_difev = []\n",
    "us = []\n",
    "y_0 = y_1 = y_2 = ydata[0]\n",
    "for i, ti in enumerate(time):\n",
    "    u_1 = 0 if i < 1 else udata[i-1]\n",
    "    u_2 = 0 if i < 2 else udata[i-2]\n",
    "    y_2, y_1 = y_1, y_0\n",
    "    y_0 = a1*y_1 + a2*y_2 + b1*u_1 + b2*u_2\n",
    "    us.append([u_1, u_2])\n",
    "    y_difev.append(y_0)\n",
    "\n",
    "y_difev = np.array(y_difev) \n"
   ]
  },
  {
   "cell_type": "code",
   "execution_count": 72,
   "metadata": {},
   "outputs": [
    {
     "data": {
      "text/plain": [
       "[<matplotlib.lines.Line2D at 0x17b5a0df320>]"
      ]
     },
     "execution_count": 72,
     "metadata": {},
     "output_type": "execute_result"
    },
    {
     "data": {
      "image/png": "[encoded data removed]",
      "text/plain": [
       "<Figure size 432x288 with 1 Axes>"
      ]
     },
     "metadata": {
      "needs_background": "light"
     },
     "output_type": "display_data"
    }
   ],
   "source": [
    "plt.plot(time, ydata)\n",
    "plt.plot(time, y_difev)"
   ]
  },
  {
   "cell_type": "code",
   "execution_count": null,
   "metadata": {},
   "outputs": [],
   "source": []
  }
 ],
 "metadata": {
  "kernelspec": {
   "display_name": "Python 3",
   "language": "python",
   "name": "python3"
  },
  "language_info": {
   "codemirror_mode": {
    "name": "ipython",
    "version": 3
   },
   "file_extension": ".py",
   "mimetype": "text/x-python",
   "name": "python",
   "nbconvert_exporter": "python",
   "pygments_lexer": "ipython3",
   "version": "3.7.1"
  }
 },
 "nbformat": 4,
 "nbformat_minor": 2
}
