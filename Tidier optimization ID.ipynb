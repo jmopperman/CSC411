{
 "cells": [
  {
   "cell_type": "code",
   "execution_count": 1,
   "metadata": {},
   "outputs": [],
   "source": [
    "import scipy.optimize\n",
    "import pandas\n",
    "import numpy as np\n",
    "import matplotlib.pyplot as plt"
   ]
  },
  {
   "cell_type": "code",
   "execution_count": 2,
   "metadata": {},
   "outputs": [],
   "source": [
    "def opt(technique, specification, filename):\n",
    "    \n",
    "    def extract_data(filename):\n",
    "        df = pandas.read_csv(filename)\n",
    "        ydata = df.T1.values\n",
    "        udata = df.Q1.values\n",
    "        time = df.Time.values\n",
    "        return ydata, udata, time\n",
    "    \n",
    "    def OF(x, filename):\n",
    "        a1, a2, b1, b2 = x\n",
    "        ydata, udata, time = extract_data(filename)\n",
    "        \n",
    "        ydev = ydata - ydata[0]\n",
    "        udev = udata - udata[0]\n",
    "        yt = []\n",
    "        for i, it in enumerate(time):\n",
    "            if i-1<0:\n",
    "                y1 = ydev[0]\n",
    "                u1 = udev[0]\n",
    "            else:\n",
    "                y1 = ydev[i-1]\n",
    "                u1 = udev[i-1]\n",
    "            if i-2<0:\n",
    "                y2 = ydev[0]\n",
    "                u2 = udev[0]\n",
    "            else:\n",
    "                y2 = ydev[i-2]\n",
    "                u2 = udev[i-2]\n",
    "            if i-3<0:\n",
    "                y3 = ydev[0]\n",
    "                u3 = udev[0]\n",
    "            else:\n",
    "                y3 = ydev[i-3]\n",
    "                u3 = udev[i-3]\n",
    "            yt.append(a1*y1 + a2*y2 + b1*u1 + b2*u2 )#+ a3*y3 + b3*u3)\n",
    "\n",
    "        return sum((ydata - (yt+ydata[0]))**2)\n",
    "    \n",
    "    return scipy.optimize.technique(OF, specification)\n",
    "\n",
    "        "
   ]
  },
  {
   "cell_type": "code",
   "execution_count": null,
   "metadata": {},
   "outputs": [],
   "source": [
    "opt(differential_evolution, )"
   ]
  }
 ],
 "metadata": {
  "kernelspec": {
   "display_name": "Python 3",
   "language": "python",
   "name": "python3"
  },
  "language_info": {
   "codemirror_mode": {
    "name": "ipython",
    "version": 3
   },
   "file_extension": ".py",
   "mimetype": "text/x-python",
   "name": "python",
   "nbconvert_exporter": "python",
   "pygments_lexer": "ipython3",
   "version": "3.7.1"
  }
 },
 "nbformat": 4,
 "nbformat_minor": 2
}
