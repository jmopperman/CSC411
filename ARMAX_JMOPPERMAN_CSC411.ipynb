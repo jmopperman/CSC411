{
 "cells": [
  {
   "cell_type": "code",
   "execution_count": 42,
   "metadata": {},
   "outputs": [],
   "source": [
    "import numpy\n",
    "import matplotlib.pyplot as plt\n",
    "import statsmodels.api as sm\n",
    "import pandas "
   ]
  },
  {
   "cell_type": "markdown",
   "metadata": {},
   "source": [
    "### TClab data:"
   ]
  },
  {
   "cell_type": "code",
   "execution_count": 89,
   "metadata": {},
   "outputs": [],
   "source": [
    "df = pandas.read_csv('Step1.csv')\n",
    "y = df.T1.values\n",
    "u = df.Q1.values\n",
    "# white noise:\n",
    "ϵ = numpy.random.normal(size=1001)"
   ]
  },
  {
   "cell_type": "markdown",
   "metadata": {},
   "source": [
    "### In statsmodels, statsmodels.tsa.ARMA() can be used to predict the parameters:"
   ]
  },
  {
   "cell_type": "code",
   "execution_count": 93,
   "metadata": {},
   "outputs": [
    {
     "name": "stderr",
     "output_type": "stream",
     "text": [
      "C:\\Users\\annam\\Anaconda3\\lib\\site-packages\\statsmodels\\tsa\\arima_model.py:1455: RuntimeWarning: invalid value encountered in sqrt\n",
      "  return np.sqrt(np.diag(-inv(hess)))\n",
      "C:\\Users\\annam\\Anaconda3\\lib\\site-packages\\scipy\\stats\\_distn_infrastructure.py:879: RuntimeWarning: invalid value encountered in greater\n",
      "  return (self.a < x) & (x < self.b)\n",
      "C:\\Users\\annam\\Anaconda3\\lib\\site-packages\\scipy\\stats\\_distn_infrastructure.py:879: RuntimeWarning: invalid value encountered in less\n",
      "  return (self.a < x) & (x < self.b)\n",
      "C:\\Users\\annam\\Anaconda3\\lib\\site-packages\\scipy\\stats\\_distn_infrastructure.py:1821: RuntimeWarning: invalid value encountered in less_equal\n",
      "  cond2 = cond0 & (x <= self.a)\n"
     ]
    },
    {
     "data": {
      "text/html": [
       "<table class=\"simpletable\">\n",
       "<caption>ARMA Model Results</caption>\n",
       "<tr>\n",
       "  <th>Dep. Variable:</th>         <td>y</td>        <th>  No. Observations:  </th>   <td>1001</td>   \n",
       "</tr>\n",
       "<tr>\n",
       "  <th>Model:</th>            <td>ARMA(1, 1)</td>    <th>  Log Likelihood     </th>  <td>513.788</td> \n",
       "</tr>\n",
       "<tr>\n",
       "  <th>Method:</th>             <td>css-mle</td>     <th>  S.D. of innovations</th>   <td>0.144</td>  \n",
       "</tr>\n",
       "<tr>\n",
       "  <th>Date:</th>          <td>Mon, 28 Jan 2019</td> <th>  AIC                </th> <td>-1017.576</td>\n",
       "</tr>\n",
       "<tr>\n",
       "  <th>Time:</th>              <td>16:12:22</td>     <th>  BIC                </th> <td>-993.033</td> \n",
       "</tr>\n",
       "<tr>\n",
       "  <th>Sample:</th>                <td>0</td>        <th>  HQIC               </th> <td>-1008.248</td>\n",
       "</tr>\n",
       "<tr>\n",
       "  <th></th>                       <td> </td>        <th>                     </th>     <td> </td>    \n",
       "</tr>\n",
       "</table>\n",
       "<table class=\"simpletable\">\n",
       "<tr>\n",
       "     <td></td>        <th>coef</th>     <th>std err</th>      <th>z</th>      <th>P>|z|</th>  <th>[0.025</th>    <th>0.975]</th>  \n",
       "</tr>\n",
       "<tr>\n",
       "  <th>const</th>   <td>   21.5572</td> <td>    0.602</td> <td>   35.826</td> <td> 0.000</td> <td>   20.378</td> <td>   22.737</td>\n",
       "</tr>\n",
       "<tr>\n",
       "  <th>x1</th>      <td> 1.217e-05</td> <td>    0.003</td> <td>    0.004</td> <td> 0.997</td> <td>   -0.005</td> <td>    0.005</td>\n",
       "</tr>\n",
       "<tr>\n",
       "  <th>ar.L1.y</th> <td>    1.0000</td> <td>      nan</td> <td>      nan</td> <td>   nan</td> <td>      nan</td> <td>      nan</td>\n",
       "</tr>\n",
       "<tr>\n",
       "  <th>ma.L1.y</th> <td>   -0.2339</td> <td>    0.024</td> <td>   -9.762</td> <td> 0.000</td> <td>   -0.281</td> <td>   -0.187</td>\n",
       "</tr>\n",
       "</table>\n",
       "<table class=\"simpletable\">\n",
       "<caption>Roots</caption>\n",
       "<tr>\n",
       "    <td></td>   <th>            Real</th>  <th>         Imaginary</th> <th>         Modulus</th>  <th>        Frequency</th>\n",
       "</tr>\n",
       "<tr>\n",
       "  <th>AR.1</th> <td>           1.0000</td> <td>          +0.0000j</td> <td>           1.0000</td> <td>           0.0000</td>\n",
       "</tr>\n",
       "<tr>\n",
       "  <th>MA.1</th> <td>           4.2747</td> <td>          +0.0000j</td> <td>           4.2747</td> <td>           0.0000</td>\n",
       "</tr>\n",
       "</table>"
      ],
      "text/plain": [
       "<class 'statsmodels.iolib.summary.Summary'>\n",
       "\"\"\"\n",
       "                              ARMA Model Results                              \n",
       "==============================================================================\n",
       "Dep. Variable:                      y   No. Observations:                 1001\n",
       "Model:                     ARMA(1, 1)   Log Likelihood                 513.788\n",
       "Method:                       css-mle   S.D. of innovations              0.144\n",
       "Date:                Mon, 28 Jan 2019   AIC                          -1017.576\n",
       "Time:                        16:12:22   BIC                           -993.033\n",
       "Sample:                             0   HQIC                         -1008.248\n",
       "                                                                              \n",
       "==============================================================================\n",
       "                 coef    std err          z      P>|z|      [0.025      0.975]\n",
       "------------------------------------------------------------------------------\n",
       "const         21.5572      0.602     35.826      0.000      20.378      22.737\n",
       "x1          1.217e-05      0.003      0.004      0.997      -0.005       0.005\n",
       "ar.L1.y        1.0000        nan        nan        nan         nan         nan\n",
       "ma.L1.y       -0.2339      0.024     -9.762      0.000      -0.281      -0.187\n",
       "                                    Roots                                    \n",
       "=============================================================================\n",
       "                  Real          Imaginary           Modulus         Frequency\n",
       "-----------------------------------------------------------------------------\n",
       "AR.1            1.0000           +0.0000j            1.0000            0.0000\n",
       "MA.1            4.2747           +0.0000j            4.2747            0.0000\n",
       "-----------------------------------------------------------------------------\n",
       "\"\"\""
      ]
     },
     "execution_count": 93,
     "metadata": {},
     "output_type": "execute_result"
    }
   ],
   "source": [
    "# I arbitrarily chose the order to be (1,1)\n",
    "\n",
    "ARMA_results = sm.tsa.ARMA(y, order=(1,1), exog = u).fit() #  \"exog = u\" turns this AMRA into an ARMAX model \n",
    "                                                            #  by giving it the exogenous inputs\n",
    "ARMA_results.summary()"
   ]
  },
  {
   "cell_type": "code",
   "execution_count": 86,
   "metadata": {},
   "outputs": [],
   "source": [
    "const, x1, ar, ma, = stuff.params"
   ]
  },
  {
   "cell_type": "markdown",
   "metadata": {},
   "source": [
    "### At this point I am  trying to figure out how to plot the results. First attempt is to identify what the corresponding difference equation is."
   ]
  },
  {
   "cell_type": "markdown",
   "metadata": {},
   "source": [
    "The following is suggested on http://www.blackarbs.com/blog/time-series-analysis-in-python-linear-models-to-garch/11/1/2016#ARMA \n",
    "\n",
    "$y(t) = a_1y(t-1) + a_py(t-p) + \\epsilon(t) + b_1\\epsilon(t-1) + b_q\\epsilon(t-q)$\n",
    "\n",
    "where $\\epsilon$ is white noise, p is the order of the auto regression (AR) model and q is the order of the moving average (MA) model."
   ]
  },
  {
   "cell_type": "code",
   "execution_count": 94,
   "metadata": {},
   "outputs": [],
   "source": [
    "y_armax = []\n",
    "for k in range(1, len(df)):\n",
    "    y_armax.append(ϵ[k] + ar*y[k-1] + ma*ϵ[k-1] + x1*u[k-1]) "
   ]
  },
  {
   "cell_type": "code",
   "execution_count": 95,
   "metadata": {
    "scrolled": true
   },
   "outputs": [
    {
     "data": {
      "image/png": "[encoded data removed]",
      "text/plain": [
       "<Figure size 432x288 with 1 Axes>"
      ]
     },
     "metadata": {
      "needs_background": "light"
     },
     "output_type": "display_data"
    }
   ],
   "source": [
    "t = numpy.arange(len(df)-1)\n",
    "plt.plot(df.Time, df.T1, '.', label = 'observation')\n",
    "plt.plot(t, y_armax, label = 'ARX prediction')\n",
    "plt.ylabel('Temperature 1 (degress celcius)')\n",
    "plt.xlabel('Time (s)')\n",
    "plt.title(\"Step Response\")\n",
    "plt.legend()\n",
    "plt.show()"
   ]
  },
  {
   "cell_type": "markdown",
   "metadata": {},
   "source": [
    "Although it seems this fit is good, I am not sure if I have implemented the identification correctly."
   ]
  },
  {
   "cell_type": "code",
   "execution_count": null,
   "metadata": {},
   "outputs": [],
   "source": []
  }
 ],
 "metadata": {
  "kernelspec": {
   "display_name": "Python 3",
   "language": "python",
   "name": "python3"
  },
  "language_info": {
   "codemirror_mode": {
    "name": "ipython",
    "version": 3
   },
   "file_extension": ".py",
   "mimetype": "text/x-python",
   "name": "python",
   "nbconvert_exporter": "python",
   "pygments_lexer": "ipython3",
   "version": "3.7.1"
  }
 },
 "nbformat": 4,
 "nbformat_minor": 2
}
